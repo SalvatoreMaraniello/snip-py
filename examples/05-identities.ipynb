{
 "cells": [
  {
   "cell_type": "markdown",
   "metadata": {},
   "source": [
    "# Variables, identities and aliases\n",
    "\n",
    "Variables are labels that are attached, binded, to an object. The object is created, and can exist, despite it is binded or not to a variable."
   ]
  },
  {
   "cell_type": "markdown",
   "metadata": {},
   "source": [
    "## Aliases vs identities"
   ]
  },
  {
   "cell_type": "code",
   "execution_count": 3,
   "metadata": {},
   "outputs": [
    {
     "name": "stdout",
     "output_type": "stream",
     "text": [
      "True\n",
      "True\n"
     ]
    }
   ],
   "source": [
    "### example of aliases\n",
    "\n",
    "a = 2\n",
    "b = a \n",
    "# equality check (__eq__). compares data\n",
    "print(a == b)\n",
    "# identity check: compares identities (id)\n",
    "print(a is b)"
   ]
  },
  {
   "cell_type": "markdown",
   "metadata": {},
   "source": [
    "## Equality vs identity check\n",
    "\n",
    "`is` checks the objects are thre same, through the id. `==` invokes `__eq__` and checks the data inside the object (slower)."
   ]
  },
  {
   "cell_type": "code",
   "execution_count": 13,
   "metadata": {},
   "outputs": [
    {
     "name": "stdout",
     "output_type": "stream",
     "text": [
      "True\n",
      "False\n"
     ]
    }
   ],
   "source": [
    "### Equality check vs Identity Check\n",
    "\n",
    "a = {'a': 1}\n",
    "b = {'a': 1}\n",
    "# equality check (__eq__). compares data\n",
    "print(a == b)\n",
    "# identity check: compares identities (id)\n",
    "print(a is b)"
   ]
  },
  {
   "cell_type": "markdown",
   "metadata": {},
   "source": [
    "There can be weitd behavious where `is` seems to behave more like `==`. This happens with **singleton**s. Singletons are a design pattern that allows you to create just one instance of a class, throughout the lifetime of a program. \n",
    "\n",
    "For example, `None` being a singleton, there will always ever be one objects containing `None` in the whole runtime. All None variables, therefore, will point to the same object. As such, `==` (which compare the effective value of the object) and `is`  (which checks `id(a)==id(b)`) will behave the same."
   ]
  },
  {
   "cell_type": "code",
   "execution_count": 18,
   "metadata": {},
   "outputs": [
    {
     "name": "stdout",
     "output_type": "stream",
     "text": [
      "True\n",
      "True\n"
     ]
    }
   ],
   "source": [
    "a = None \n",
    "b = None \n",
    "def get_none(x):\n",
    "    return None\n",
    "c = get_none('dummy')\n",
    "\n",
    "print(a is b)\n",
    "print(a is c)"
   ]
  },
  {
   "cell_type": "markdown",
   "metadata": {},
   "source": [
    "There are other singletons in python, e.g. intergers below 256 (to verify) for which we have simliar behavious."
   ]
  },
  {
   "cell_type": "code",
   "execution_count": 19,
   "metadata": {},
   "outputs": [
    {
     "name": "stdout",
     "output_type": "stream",
     "text": [
      "True\n",
      "True\n"
     ]
    }
   ],
   "source": [
    "# 2 is also a singleton\n",
    "c = 2\n",
    "d = 10//5\n",
    "e = 1*2\n",
    "# identity check: compares identities (id)\n",
    "print(c is d)\n",
    "# identity check: compares identities (id)\n",
    "print(c is e)"
   ]
  },
  {
   "cell_type": "code",
   "execution_count": 20,
   "metadata": {},
   "outputs": [
    {
     "name": "stdout",
     "output_type": "stream",
     "text": [
      "False\n",
      "False\n"
     ]
    }
   ],
   "source": [
    "# 2000 is not a singleton\n",
    "c = 2000\n",
    "d = 10000//5\n",
    "e = 1*2000\n",
    "# identity check: compares identities (id)\n",
    "print(c is d)\n",
    "# identity check: compares identities (id)\n",
    "print(c is e)"
   ]
  },
  {
   "cell_type": "markdown",
   "metadata": {},
   "source": [
    "As a rule of thumb, if you are interested in comparing values, always use `==`. If you are interesting in comapring identities (typically in debugging) or comparing equality for objects that are singleton, like `None`, `is` can run much faster, so may be preferred."
   ]
  },
  {
   "cell_type": "markdown",
   "metadata": {},
   "source": []
  },
  {
   "cell_type": "markdown",
   "metadata": {},
   "source": [
    "## Copies are shallow by default"
   ]
  },
  {
   "cell_type": "code",
   "execution_count": 25,
   "metadata": {},
   "outputs": [
    {
     "name": "stdout",
     "output_type": "stream",
     "text": [
      "False\n",
      "[1, 2, 3]\n"
     ]
    }
   ],
   "source": [
    "# To copy a list...\n",
    "a = [1,2,3]\n",
    "b = list(a)   # also has same effect `b = a[:]`\n",
    "print(a is b) # This looks like a deep copy...\n",
    "a[0] = 100    \n",
    "print(b)      # ...and changes in a are not reflected in b\n",
    "\n"
   ]
  },
  {
   "cell_type": "code",
   "execution_count": 33,
   "metadata": {},
   "outputs": [
    {
     "name": "stdout",
     "output_type": "stream",
     "text": [
      "False\n",
      "ID 0-th element: 4367876368 vs 4367876368\n",
      "ID 1-th element: 4413476112 vs 4413476112\n",
      "ID 2-th element: 4416637952 vs 4416637952\n",
      "[2, 2500, [1, 3]]\n"
     ]
    }
   ],
   "source": [
    "# List can be copied with `list(...)` or `[:]`. However, this copy is shallow. It means that all \n",
    "# elements of the list are copies, but if some of these are references to another object, \n",
    "# \"only\" reference id is copied. The inderlying object is not duplicated. If this object is mutable, \n",
    "# changes to it will be seen also in the copy of the original list.\n",
    "a = [2,2500,[1,2,3]]\n",
    "b = list(a)     # a[:] Has the same effect\n",
    "print(a is b)   # This confirms that a new object has been created\n",
    "\n",
    "# But this objects contains exactly the same ids (they have just been copied elsewere)\n",
    "for ii in range(len(a)): \n",
    "    print(f'ID {ii}-th element: {id(a[ii])} vs {id(b[ii])}') \n",
    "\n",
    "a[0] = 100      # This change will not be seen in b (we update the id in a[0])\n",
    "a[-1].remove(2) # But this will be, because the id in b[-1] and a[-1] is not changed - but the object itself is!\n",
    "print(b)"
   ]
  },
  {
   "cell_type": "code",
   "execution_count": null,
   "metadata": {},
   "outputs": [],
   "source": []
  }
 ],
 "metadata": {
  "kernelspec": {
   "display_name": "Python 3",
   "language": "python",
   "name": "python3"
  },
  "language_info": {
   "codemirror_mode": {
    "name": "ipython",
    "version": 3
   },
   "file_extension": ".py",
   "mimetype": "text/x-python",
   "name": "python",
   "nbconvert_exporter": "python",
   "pygments_lexer": "ipython3",
   "version": "3.10.8"
  }
 },
 "nbformat": 4,
 "nbformat_minor": 2
}
