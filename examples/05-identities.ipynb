{
 "cells": [
  {
   "cell_type": "markdown",
   "metadata": {},
   "source": [
    "# Variables, identities and aliases\n",
    "\n",
    "Variables are labels that are attached, binded, to an object. The object is created, and can exist, despite it is binded or not to a variable."
   ]
  },
  {
   "cell_type": "markdown",
   "metadata": {},
   "source": [
    "## Aliases vs identities"
   ]
  },
  {
   "cell_type": "code",
   "execution_count": 3,
   "metadata": {},
   "outputs": [
    {
     "name": "stdout",
     "output_type": "stream",
     "text": [
      "True\n",
      "True\n"
     ]
    }
   ],
   "source": [
    "### example of aliases\n",
    "\n",
    "a = 2\n",
    "b = a \n",
    "# equality check (__eq__). compares data\n",
    "print(a == b)\n",
    "# identity check: compares identities (id)\n",
    "print(a is b)"
   ]
  },
  {
   "cell_type": "markdown",
   "metadata": {},
   "source": [
    "## Equality vs identity check\n",
    "\n",
    "`is` checks the objects are thre same, through the id. `==` invokes `__eq__` and checks the data inside the object (slower)."
   ]
  },
  {
   "cell_type": "code",
   "execution_count": 13,
   "metadata": {},
   "outputs": [
    {
     "name": "stdout",
     "output_type": "stream",
     "text": [
      "True\n",
      "False\n"
     ]
    }
   ],
   "source": [
    "### Equality check vs Identity Check\n",
    "\n",
    "a = {'a': 1}\n",
    "b = {'a': 1}\n",
    "# equality check (__eq__). compares data\n",
    "print(a == b)\n",
    "# identity check: compares identities (id)\n",
    "print(a is b)"
   ]
  },
  {
   "cell_type": "markdown",
   "metadata": {},
   "source": [
    "There can be weitd behavious where `is` seems to behave more like `==`. This happens with **singleton**s. Singletons are a design pattern that allows you to create just one instance of a class, throughout the lifetime of a program. \n",
    "\n",
    "For example, `None` being a singleton, there will always ever be one objects containing `None` in the whole runtime. All None variables, therefore, will point to the same object. As such, `==` (which compare the effective value of the object) and `is`  (which checks `id(a)==id(b)`) will behave the same.\n",
    "\n",
    "**PS:** also strings behave in a similar way. This is an optimisation technique called *intering*."
   ]
  },
  {
   "cell_type": "code",
   "execution_count": 18,
   "metadata": {},
   "outputs": [
    {
     "name": "stdout",
     "output_type": "stream",
     "text": [
      "True\n",
      "True\n"
     ]
    }
   ],
   "source": [
    "a = None \n",
    "b = None \n",
    "def get_none(x):\n",
    "    return None\n",
    "c = get_none('dummy')\n",
    "\n",
    "print(a is b)\n",
    "print(a is c)"
   ]
  },
  {
   "cell_type": "markdown",
   "metadata": {},
   "source": [
    "There are other singletons in python, e.g. intergers below 256 (to verify) for which we have simliar behavious."
   ]
  },
  {
   "cell_type": "code",
   "execution_count": 19,
   "metadata": {},
   "outputs": [
    {
     "name": "stdout",
     "output_type": "stream",
     "text": [
      "True\n",
      "True\n"
     ]
    }
   ],
   "source": [
    "# 2 is also a singleton\n",
    "c = 2\n",
    "d = 10//5\n",
    "e = 1*2\n",
    "# identity check: compares identities (id)\n",
    "print(c is d)\n",
    "# identity check: compares identities (id)\n",
    "print(c is e)"
   ]
  },
  {
   "cell_type": "code",
   "execution_count": 20,
   "metadata": {},
   "outputs": [
    {
     "name": "stdout",
     "output_type": "stream",
     "text": [
      "False\n",
      "False\n"
     ]
    }
   ],
   "source": [
    "# 2000 is not a singleton\n",
    "c = 2000\n",
    "d = 10000//5\n",
    "e = 1*2000\n",
    "# identity check: compares identities (id)\n",
    "print(c is d)\n",
    "# identity check: compares identities (id)\n",
    "print(c is e)"
   ]
  },
  {
   "cell_type": "markdown",
   "metadata": {},
   "source": [
    "As a rule of thumb, if you are interested in comparing values, always use `==`. If you are interesting in comapring identities (typically in debugging) or comparing equality for objects that are singleton, like `None`, `is` can run much faster, so may be preferred."
   ]
  },
  {
   "cell_type": "markdown",
   "metadata": {},
   "source": []
  },
  {
   "cell_type": "markdown",
   "metadata": {},
   "source": [
    "## Copies are shallow by default"
   ]
  },
  {
   "cell_type": "code",
   "execution_count": 25,
   "metadata": {},
   "outputs": [
    {
     "name": "stdout",
     "output_type": "stream",
     "text": [
      "False\n",
      "[1, 2, 3]\n"
     ]
    }
   ],
   "source": [
    "# To copy a list...\n",
    "a = [1,2,3]\n",
    "b = list(a)   # also has same effect `b = a[:]`\n",
    "print(a is b) # This looks like a deep copy...\n",
    "a[0] = 100    \n",
    "print(b)      # ...and changes in a are not reflected in b\n",
    "\n"
   ]
  },
  {
   "cell_type": "code",
   "execution_count": 33,
   "metadata": {},
   "outputs": [
    {
     "name": "stdout",
     "output_type": "stream",
     "text": [
      "False\n",
      "ID 0-th element: 4367876368 vs 4367876368\n",
      "ID 1-th element: 4413476112 vs 4413476112\n",
      "ID 2-th element: 4416637952 vs 4416637952\n",
      "[2, 2500, [1, 3]]\n"
     ]
    }
   ],
   "source": [
    "# List can be copied with `list(...)` or `[:]`. However, this copy is shallow. It means that all \n",
    "# elements of the list are copies, but if some of these are references to another object, \n",
    "# \"only\" reference id is copied. The inderlying object is not duplicated. If this object is mutable, \n",
    "# changes to it will be seen also in the copy of the original list.\n",
    "a = [2,2500,[1,2,3]]\n",
    "b = list(a)     # a[:] Has the same effect\n",
    "print(a is b)   # This confirms that a new object has been created\n",
    "\n",
    "# But this objects contains exactly the same ids (they have just been copied elsewere)\n",
    "for ii in range(len(a)): \n",
    "    print(f'ID {ii}-th element: {id(a[ii])} vs {id(b[ii])}') \n",
    "\n",
    "a[0] = 100      # This change will not be seen in b (we create a whole new object in a[0])\n",
    "\n",
    "a[-1].remove(2) # But this will be, because the id in b[-1] and a[-1] is not changed - but the object itself is!\n",
    "print(b)"
   ]
  },
  {
   "cell_type": "code",
   "execution_count": 35,
   "metadata": {},
   "outputs": [
    {
     "data": {
      "text/plain": [
       "True"
      ]
     },
     "execution_count": 35,
     "metadata": {},
     "output_type": "execute_result"
    }
   ],
   "source": [
    "# PS: the same does not work for tuples, str, frozenset\n",
    "t = (1,2,3)\n",
    "a = tuple(t)\n",
    "t is a "
   ]
  },
  {
   "cell_type": "markdown",
   "metadata": {},
   "source": [
    "## Function parameters are passed by values, but values are always references.\n",
    "\n",
    "This is neither call by value or call by reference (the function gets a pointer to the argument); it's call by share.\n",
    "\n",
    "Parameters are passed into a function by sharing - hence their identity is shared, not their value."
   ]
  },
  {
   "cell_type": "code",
   "execution_count": 4,
   "metadata": {},
   "outputs": [
    {
     "name": "stdout",
     "output_type": "stream",
     "text": [
      "with floats...\n",
      "id(x): 4336369904; id(y): 4336369936\n",
      "id(a): 4336369904; id(b): 4336369936\n",
      "id(a): 4336369968; id(b): 4336369936\n",
      "x=1 has not changed. a variable updated to new address in memory where a+=b is stored.\n",
      "with tuples...\n",
      "id(x): 4393831808; id(y): 4393917888\n",
      "id(a): 4393831808; id(b): 4393917888\n",
      "id(a): 4393814592; id(b): 4393917888\n",
      "x=(1, 2) has not changed. As tuples are immutable, a variable updated to new address in memory where a+=b is stored.\n",
      "with lisst...\n",
      "id(x): 4393969216; id(y): 4393273088\n",
      "id(a): 4393969216; id(b): 4393273088\n",
      "id(a): 4393969216; id(b): 4393273088\n",
      "x=[1, 2, 3, 4] has changed. As lists are immutable, a is updated inplace, meaning id(a) does not change, but also that x changes.\n"
     ]
    }
   ],
   "source": [
    "def f(a,b):\n",
    "    print(f'id(a): {id(a)}; id(b): {id(b)}')\n",
    "    a+=b \n",
    "    print(f'id(a): {id(a)}; id(b): {id(b)}')\n",
    "    return a \n",
    "\n",
    "print('with floats...')\n",
    "x, y = 1, 2\n",
    "print(f'id(x): {id(x)}; id(y): {id(y)}')\n",
    "f(x,y)\n",
    "print(f'x={x} has not changed. a variable updated to new address in memory where a+=b is stored.')\n",
    "\n",
    "print('with tuples...')\n",
    "x, y = (1,2), (3,4)\n",
    "print(f'id(x): {id(x)}; id(y): {id(y)}')\n",
    "f(x,y)\n",
    "print(f'x={x} has not changed. As tuples are immutable, a variable updated to new address in memory where a+=b is stored.')\n",
    "\n",
    "print('with lisst...')\n",
    "x, y = [1,2], [3,4]\n",
    "print(f'id(x): {id(x)}; id(y): {id(y)}')\n",
    "f(x,y)\n",
    "print(f'x={x} has changed. As lists are immutable, a is updated inplace, meaning id(a) does not change, but also that x changes.')"
   ]
  },
  {
   "cell_type": "markdown",
   "metadata": {},
   "source": [
    "## Mutable default values\n",
    "\n",
    "See **Haunted bus** example from [Fluent Python](https://github.com/fluentpython/example-code-2e/blob/master/06-obj-ref/haunted_bus.py). The default empty list object for `passengers` is assigned when the function `__init__` is defined. So all instances of the HantedBus class will refencence the same default. \n",
    "\n",
    "This eaxmple explains why `None` is typically used to default mutable types. If we had chosen this approach, we would move the tast of creating a new empty list **inside** the `__init__` function, which means the statement is executed very time `__init__` is called, hence creating a brand new objects."
   ]
  },
  {
   "cell_type": "code",
   "execution_count": 23,
   "metadata": {},
   "outputs": [],
   "source": [
    "class HauntedBus:\n",
    "    \"\"\"A bus model haunted by ghost passengers\"\"\"\n",
    "\n",
    "    def __init__(self, passengers=[]):\n",
    "        print(f'id(passengers) = {id(passengers)}')\n",
    "        # self.passengers is an alias for passengers, which is itself an alias for the empty list [] created when __init__ is defined.\n",
    "        self.passengers = passengers \n",
    "\n",
    "    def pick(self, name):\n",
    "        self.passengers.append(name)\n",
    "\n",
    "    def drop(self, name):\n",
    "        self.passengers.remove(name)\n",
    "\n",
    "\n",
    "class TwilightBus:\n",
    "    \"\"\"A better bus model - but still potentially buggy,  because the pick and drop methods modify \n",
    "    the input list itself.\"\"\"\n",
    "\n",
    "    def __init__(self, passengers=None):\n",
    "        if passengers is None:\n",
    "            passengers = []\n",
    "        \n",
    "        # a better implementation would make a copy self.passengers = list(passenger).\n",
    "        self.passengers = passengers \n",
    "        print(f'id(self.passengers) = {id(self.passengers)}')\n",
    "\n",
    "    def pick(self, name):\n",
    "        self.passengers.append(name)\n",
    "\n",
    "    def drop(self, name):\n",
    "        self.passengers.remove(name)"
   ]
  },
  {
   "cell_type": "code",
   "execution_count": 24,
   "metadata": {},
   "outputs": [
    {
     "name": "stdout",
     "output_type": "stream",
     "text": [
      "id(passengers) = 4393632064\n",
      "['Alice', 'Bill']\n",
      "['Bill', 'Charlie']\n",
      "id(passengers) = 4394017984\n",
      "['Carrie']\n",
      "id(passengers) = 4394017984\n",
      "['Carrie']\n",
      "['Carrie', 'Dave']\n",
      "Was the same list all the times? True\n",
      "in fact, this is the defaults passenger list\n",
      "And this is its ID (same as bus2.passengers): 4394017984\n"
     ]
    },
    {
     "data": {
      "text/plain": [
       "True"
      ]
     },
     "execution_count": 24,
     "metadata": {},
     "output_type": "execute_result"
    }
   ],
   "source": [
    "# Hanted busses...\n",
    "bus1 = HauntedBus(['Alice', 'Bill'])\n",
    "print(bus1.passengers)\n",
    "bus1.pick('Charlie')\n",
    "bus1.drop('Alice')\n",
    "print(bus1.passengers)\n",
    "\n",
    "bus2 = HauntedBus()\n",
    "bus2.pick('Carrie')\n",
    "print(bus2.passengers)\n",
    "\n",
    "bus3 = HauntedBus()\n",
    "print(bus3.passengers)\n",
    "bus3.pick('Dave')\n",
    "print(bus2.passengers)\n",
    "\n",
    "print(f'Was the same list all the times? {bus2.passengers is bus3.passengers}')\n",
    "\n",
    "print('in fact, this is the defaults passenger list')\n",
    "default_passengers = HauntedBus.__init__.__defaults__[0]\n",
    "print(f'And this is its ID (same as bus2.passengers): {id(default_passengers)}')\n",
    "\n",
    "default_passengers is bus2.passengers"
   ]
  },
  {
   "cell_type": "code",
   "execution_count": 26,
   "metadata": {},
   "outputs": [
    {
     "name": "stdout",
     "output_type": "stream",
     "text": [
      "id(self.passengers) = 4393919424\n",
      "['Carrie']\n",
      "id(self.passengers) = 4394033664\n",
      "[]\n",
      "['Carrie']\n",
      "['Dave']\n"
     ]
    }
   ],
   "source": [
    "# Not hanted busses - but this class still has a problem (see next)\n",
    "bus2 = TwilightBus()\n",
    "bus2.pick('Carrie')\n",
    "print(bus2.passengers)\n",
    "\n",
    "bus3 = TwilightBus()\n",
    "print(bus3.passengers)\n",
    "bus3.pick('Dave')\n",
    "print(bus2.passengers)\n",
    "print(bus3.passengers)"
   ]
  },
  {
   "cell_type": "code",
   "execution_count": 29,
   "metadata": {},
   "outputs": [
    {
     "name": "stdout",
     "output_type": "stream",
     "text": [
      "id(self.passengers) = 4393273152\n"
     ]
    },
    {
     "data": {
      "text/plain": [
       "['mike', 'tammy', 'andrew']"
      ]
     },
     "execution_count": 29,
     "metadata": {},
     "output_type": "execute_result"
    }
   ],
   "source": [
    "basketballteam = ['mike', 'ally', 'tammy', 'andrew']\n",
    "bus = TwilightBus(basketballteam)\n",
    "bus.drop('ally')\n",
    "\n",
    "# somehow, now ally is not anymore a member of basketball team...\n",
    "basketballteam"
   ]
  },
  {
   "cell_type": "markdown",
   "metadata": {},
   "source": [
    "## `del x` does only delete the reference to the object"
   ]
  },
  {
   "cell_type": "markdown",
   "metadata": {},
   "source": [
    "There is a cool tool that allows you to know when an object is actually deleted from memory"
   ]
  },
  {
   "cell_type": "code",
   "execution_count": 34,
   "metadata": {},
   "outputs": [
    {
     "name": "stdout",
     "output_type": "stream",
     "text": [
      "object still alive? True. In fact a={1, 2, 3}\n",
      "Now object is finally deleted, and we will get a message\n",
      "object is deleted\n"
     ]
    },
    {
     "data": {
      "text/plain": [
       "False"
      ]
     },
     "execution_count": 34,
     "metadata": {},
     "output_type": "execute_result"
    }
   ],
   "source": [
    "import weakref\n",
    "def say_goodbye():\n",
    "    print('object is deleted')\n",
    "\n",
    "x = {1,2,3}\n",
    "\n",
    "# in theory, this statement also creates a reference to x. But this is a weak reference, which \n",
    "# does not increase the object reference count.\n",
    "ender = weakref.finalize(x, say_goodbye)\n",
    "\n",
    "a = x\n",
    "del x \n",
    "print(f'object still alive? {ender.alive}. In fact a={a}')\n",
    "\n",
    "print('Now object is finally deleted, and we will get a message')\n",
    "del a\n",
    "ender.alive"
   ]
  },
  {
   "cell_type": "code",
   "execution_count": null,
   "metadata": {},
   "outputs": [],
   "source": []
  }
 ],
 "metadata": {
  "kernelspec": {
   "display_name": "Python 3",
   "language": "python",
   "name": "python3"
  },
  "language_info": {
   "codemirror_mode": {
    "name": "ipython",
    "version": 3
   },
   "file_extension": ".py",
   "mimetype": "text/x-python",
   "name": "python",
   "nbconvert_exporter": "python",
   "pygments_lexer": "ipython3",
   "version": "3.10.8"
  }
 },
 "nbformat": 4,
 "nbformat_minor": 2
}
