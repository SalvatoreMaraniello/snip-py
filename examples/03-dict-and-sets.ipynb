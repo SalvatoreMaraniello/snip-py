{
 "cells": [
  {
   "cell_type": "markdown",
   "metadata": {},
   "source": [
    "# Dict and sets \n",
    "\n",
    "These are all based on hash tables."
   ]
  },
  {
   "cell_type": "markdown",
   "metadata": {},
   "source": [
    "## About sets"
   ]
  },
  {
   "cell_type": "code",
   "execution_count": 73,
   "metadata": {},
   "outputs": [
    {
     "name": "stdout",
     "output_type": "stream",
     "text": [
      "{1, 2, 3, 5, 6, 7, 8, 10}\n",
      "{1, 2, 3, 5, 6, 7, 8, 10, 22}\n",
      "{1, 2, 3, 5, 6, 7, 8, 10}\n",
      "{1, 2, 3}\n",
      "{1, 3, 4}\n"
     ]
    }
   ],
   "source": [
    "# a quick way to create sets using *\n",
    "args1 = [1,2,3]\n",
    "args2 = (5,6,7)\n",
    "s = {*args1, *args2, 8, 8, 8, 10}\n",
    "print(s)\n",
    "\n",
    "# sets can be updated inplace with union...\n",
    "s |= {22}\n",
    "print(s)\n",
    "\n",
    "# or removing \n",
    "s -= {22}\n",
    "print(s)\n",
    "\n",
    "# or intersections \n",
    "s &= {1,2,3,4,99}\n",
    "print(s)\n",
    "\n",
    "# or symmetric difference (i.e. only keeping elements that are not in both sets)\n",
    "s ^= {2,4}\n",
    "print(s) "
   ]
  },
  {
   "cell_type": "markdown",
   "metadata": {},
   "source": [
    "## swt vs frozen sets\n",
    "\n",
    "There are also frozen sets. Also these do not preserve the order. They can not be modified."
   ]
  },
  {
   "cell_type": "code",
   "execution_count": 82,
   "metadata": {},
   "outputs": [
    {
     "name": "stdout",
     "output_type": "stream",
     "text": [
      "{1, 2, 3}\n",
      "frozenset({4})\n"
     ]
    }
   ],
   "source": [
    "s = {2,3}\n",
    "f = frozenset({2,3,4})\n",
    "\n",
    "# frozen sets don;t have add/remove\n",
    "s.add(1)\n",
    "print(s)\n",
    "\n",
    "# but we can do normal operations on them, including inplace\n",
    "f -= s\n",
    "print(f)"
   ]
  },
  {
   "cell_type": "markdown",
   "metadata": {},
   "source": [
    "## Empty dictionaries and dict_keys as sorted sets"
   ]
  },
  {
   "cell_type": "code",
   "execution_count": 55,
   "metadata": {},
   "outputs": [
    {
     "name": "stdout",
     "output_type": "stream",
     "text": [
      "dict_keys(['a', 'b', 'c'])\n",
      "dict_keys(['a', 'b', 'c', 'new'])\n"
     ]
    },
    {
     "data": {
      "text/plain": [
       "{'a'}"
      ]
     },
     "execution_count": 55,
     "metadata": {},
     "output_type": "execute_result"
    }
   ],
   "source": [
    "# 1. Preallocating dictionaries may save memory, as we don't need updatin ghte dict hash table.\n",
    "dict.fromkeys(['a','b','c'])\n",
    "\n",
    "# 2. This is also a way to keep a unique list of items (like a set), but preserving their order (which set can not do)\n",
    "d = dict.fromkeys(['a','b','c','b','a'])\n",
    "print(d.keys())\n",
    "\n",
    "# 3. finally, dict_keys objects a dynamic, and will update as I add/remove keys\n",
    "keys = d.keys()\n",
    "d['new'] = 3 \n",
    "print(keys)\n",
    "\n",
    "# finally: dict_keys, dict_items, dict_values have a lot of methods similar to sets.\n",
    "new_keys = {'a': 1, 1:1, 2:2}.keys()\n",
    "keys & new_keys"
   ]
  },
  {
   "cell_type": "markdown",
   "metadata": {},
   "source": [
    "## Merging Mappings"
   ]
  },
  {
   "cell_type": "code",
   "execution_count": 3,
   "metadata": {},
   "outputs": [
    {
     "name": "stdout",
     "output_type": "stream",
     "text": [
      "{'a': 0, 'b': 1}\n",
      "{'a': 0, 'b': 1, 'other': 'stuff'}\n"
     ]
    }
   ],
   "source": [
    "# | overator\n",
    "print( {'a': 0} | {'b': 1} )\n",
    "# or \n",
    "print({**{'a': 0}, **{'b': 1}, 'other':'stuff'}) "
   ]
  },
  {
   "cell_type": "code",
   "execution_count": 4,
   "metadata": {},
   "outputs": [
    {
     "name": "stdout",
     "output_type": "stream",
     "text": [
      "{'a': 0, 'b': 1}\n"
     ]
    }
   ],
   "source": [
    "# You can also \"add incrementally\"\n",
    "a = {'a': 0} \n",
    "a |= {'b': 1}\n",
    "print(a)"
   ]
  },
  {
   "cell_type": "markdown",
   "metadata": {},
   "source": [
    "## `setdefault`\n",
    "\n",
    "This is a mapping method that avoids unnecessary key lookups. The usage is more clearly explained in the example below."
   ]
  },
  {
   "cell_type": "code",
   "execution_count": 14,
   "metadata": {},
   "outputs": [
    {
     "name": "stdout",
     "output_type": "stream",
     "text": [
      "{'bike': [0], 'car': [1, 3, 4], 'home': [2, 5]}\n",
      "{'bike': [0], 'car': [1, 3, 4], 'home': [2, 5]}\n",
      "{'bike': [0], 'car': [1, 3, 4], 'home': [2, 5]}\n"
     ]
    }
   ],
   "source": [
    "# For each word, let's create a list of positions when the word is found in the text\n",
    "some_text = 'bike car home car car home'\n",
    "d = {} \n",
    "for ii,w in enumerate(some_text.split(' ')):\n",
    "    # very ugly code. \n",
    "    positions = d.get(w, []) # get list - default to []\n",
    "    positions.append(ii)     # add new positions\n",
    "    d[w] = positions         # update key\n",
    "print(d)\n",
    "\n",
    "d = {} \n",
    "for ii,w in enumerate(some_text.split(' ')):\n",
    "    # compact code:\n",
    "    d.setdefault(w,[]).append(ii)\n",
    "print(d)\n",
    "\n",
    "# the setdefault function does two things at the same time, exemplified in the code below. \n",
    "# 1. it adds a default to the key w, if not found.\n",
    "# 2. returns the object itself.\n",
    "d = {} \n",
    "for ii,w in enumerate(some_text.split(' ')):\n",
    "    if w not in d:\n",
    "        d[w] = []\n",
    "    d[w].append(ii)\n",
    "print(d)"
   ]
  },
  {
   "cell_type": "markdown",
   "metadata": {},
   "source": [
    "## Automatic handling of missing keys\n",
    "\n",
    "The `get` and `setdefault` methods are not the only possibility. If you want the handling of missing values even when using the `[key]` notation you can either use the `collections.defaultdict` or subclassing `dict` adding a `__missing__` method to it."
   ]
  },
  {
   "cell_type": "code",
   "execution_count": 27,
   "metadata": {},
   "outputs": [
    {
     "name": "stdout",
     "output_type": "stream",
     "text": [
      "defaultdict(<class 'list'>, {'bike': [0], 'car': [1, 3, 4], 'home': [2, 5]})\n"
     ]
    }
   ],
   "source": [
    "# collections.defaultdict will automatically default to something. This is a callable, though. \n",
    "# So if I want it to default to an empty list, I pass `list`, or `lambda: []`, but not `[]`.\n",
    "# We can also specify extra arg and kwargs to be called.\n",
    "import collections\n",
    "some_text = 'bike car home car car home'\n",
    "d = collections.defaultdict(list)\n",
    "for ii,w in enumerate(some_text.split(' ')):\n",
    "    d[w].append(ii)\n",
    "print(d)"
   ]
  },
  {
   "cell_type": "code",
   "execution_count": 36,
   "metadata": {},
   "outputs": [
    {
     "name": "stdout",
     "output_type": "stream",
     "text": [
      "{'bike': [0], 'car': [1, 3, 4], 'home': [2, 5]}\n",
      "[]\n",
      "{'bike': [0], 'car': [1, 3, 4], 'home': [2, 5], 'missing_key': []}\n"
     ]
    }
   ],
   "source": [
    "# IMPORTANT: In general, it is better to sunclass from `collections.UserDict`; e.g. in this scenario,\n",
    "# we'd avoid having to write the `self.get` method. \n",
    "\n",
    "class MyDict(dict):\n",
    "    \"\"\"A dictionary subclass than behaves like collections.defaultdict(list).\"\"\"\n",
    "    def __missing__(self, key):\n",
    "        \"\"\"Assign an empty list to missing keys, and return their value\"\"\"\n",
    "        self[key] = []   # here we assign default empty list\n",
    "        return self[key] # here we return it.\n",
    "    def get(self, key):\n",
    "        '''self.__missing__ is only called by __getitem__ (hence self.[]), not by `self.get`. Hence,\n",
    "        without this, `self.get(missing_key)` will raise an error.\n",
    "        We would not need this method if we were subclassing from `collections.UserDict`'''\n",
    "        return self[key]\n",
    "d = MyDict()\n",
    "for ii,w in enumerate(some_text.split(' ')):\n",
    "    d[w].append(ii)\n",
    "print(d)\n",
    "print(d.get('missing_key'))\n",
    "print(d)\n"
   ]
  },
  {
   "cell_type": "markdown",
   "metadata": {},
   "source": [
    "## Custom dictionaries from `UserDict`\n",
    "A major difference than subclassing from `dict` directly is that data will be stored in an actual dictionary under `self.data`. This avoids messing up (e.g. getting infinite recursion) if we are to modify the special methods.\n",
    "\n",
    "Below we build a dictionary that encrypts its keys."
   ]
  },
  {
   "cell_type": "code",
   "execution_count": 44,
   "metadata": {},
   "outputs": [
    {
     "name": "stdout",
     "output_type": "stream",
     "text": [
      "{5286198421476792899: 32, -3538111422514561573: 64}\n",
      "32\n"
     ]
    }
   ],
   "source": [
    "from typing import Any \n",
    "from collections import UserDict\n",
    "# from cryptography.fernet import Fernet\n",
    "\n",
    "class EncryptedDict(UserDict):\n",
    "    def __init__(self, *args, **kwargs):\n",
    "        super().__init__(*args, **kwargs)\n",
    "        # key = Fernet.generate_key()\n",
    "        # self._fernet = Fernet(key)\n",
    "\n",
    "    def encrypt_key(self, key: str):\n",
    "        \"\"\"For simplicity, we simply hash the key. But we left the code required for proper\n",
    "        encryption with Fernet\"\"\"\n",
    "        # return self._fernet.encrypt(key.encode())\n",
    "        return hash(key)\n",
    "    \n",
    "    def __setitem__(self, key: str, item: Any) -> None:\n",
    "        key_encrypted = self.encrypt_key(key)\n",
    "        # self[key] = item # this also works\n",
    "        return super().__setitem__(key_encrypted, item)\n",
    "    \n",
    "    def __getitem__(self, key: Any) -> Any:\n",
    "        key_encrypted = self.encrypt_key(key)\n",
    "        return self.data[key_encrypted]\n",
    "        # return super().__getitem__(key_encrypted)\n",
    "\n",
    "ed = EncryptedDict()\n",
    "ed['cacca'] = 32\n",
    "ed['merdina'] = 64\n",
    "print(ed)\n",
    "print(ed['cacca'])\n",
    "    \n"
   ]
  },
  {
   "cell_type": "markdown",
   "metadata": {},
   "source": [
    "## ChainMap\n",
    "This is a list of mappings. When you query a key, it first looks it into the first mapping, then the second, etc until the key is found."
   ]
  },
  {
   "cell_type": "code",
   "execution_count": 39,
   "metadata": {},
   "outputs": [
    {
     "name": "stdout",
     "output_type": "stream",
     "text": [
      "1\n",
      "3\n"
     ]
    }
   ],
   "source": [
    "from collections import ChainMap\n",
    "c = ChainMap(\n",
    "    {'a': 1, 'b': 2}, \n",
    "    {'a': 11, 'b': 22, 'c': 3}\n",
    ")\n",
    "print(c['a'])\n",
    "print(c['c'])"
   ]
  },
  {
   "cell_type": "markdown",
   "metadata": {},
   "source": [
    "## Immutable Mapping\n",
    "\n",
    "There are no immutable mappings. But we can have some ways around. For example the "
   ]
  },
  {
   "cell_type": "code",
   "execution_count": 49,
   "metadata": {},
   "outputs": [
    {
     "name": "stdout",
     "output_type": "stream",
     "text": [
      "{'a': 1, 'b': 2}\n",
      "{'a': 1, 'b': 2, 'c': 3}\n"
     ]
    }
   ],
   "source": [
    "from types import MappingProxyType\n",
    "d_backend = {'a': 1, 'b': 2}\n",
    "d_front = MappingProxyType(d_backend)\n",
    "print(d_front)\n",
    "\n",
    "# assignments will fail...\n",
    "# d_front['a'] = 3\n",
    "\n",
    "# but changes in the backend dictionary will be reflected\n",
    "d_backend['c'] = 3\n",
    "print(d_front)"
   ]
  },
  {
   "cell_type": "code",
   "execution_count": null,
   "metadata": {},
   "outputs": [],
   "source": []
  }
 ],
 "metadata": {
  "kernelspec": {
   "display_name": "Python 3",
   "language": "python",
   "name": "python3"
  },
  "language_info": {
   "codemirror_mode": {
    "name": "ipython",
    "version": 3
   },
   "file_extension": ".py",
   "mimetype": "text/x-python",
   "name": "python",
   "nbconvert_exporter": "python",
   "pygments_lexer": "ipython3",
   "version": "3.10.8"
  }
 },
 "nbformat": 4,
 "nbformat_minor": 2
}
