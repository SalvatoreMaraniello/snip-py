{
 "cells": [
  {
   "cell_type": "markdown",
   "metadata": {},
   "source": [
    "# Python Data Model\n",
    "\n",
    "**Python Data Model**, is the API that we use to make our own objects play well with the most idiomatic language features.\n",
    "\n",
    "- You can think of the data model as a *description of Python as a framework*, which formalizes the interfaces of the building blocks of the language itself (sequences, functions, iterators, coroutines, classes, context managers, and so on).\n",
    "\n",
    "When using a framework, we code methods that are called by the framework. The same happens when we leverage the Python Data Model to build new classes. The Python interpreter invokes **special methods** to perform basic object operations, often triggered by special syntax. \n",
    "\n",
    "## Special Methods\n",
    "\n",
    "The **special method** (or **Magic Methods** or *Dunder Methods*) are written as `__XXX__` and dictate how an object behaves.\n",
    "\n",
    "They are meant to be called bgy the Python interpreter, not you. E.g. you don’t write `my_object.__len__()`; instead you write: `len(my_object)` and Python calls the `__len__` method you implemented."
   ]
  },
  {
   "cell_type": "code",
   "execution_count": 14,
   "metadata": {},
   "outputs": [
    {
     "name": "stdout",
     "output_type": "stream",
     "text": [
      "This raises error: object of type 'MyClassWithoutLen' has no len()\n",
      "If I define a `__len__` method, now my class responds to `len(a) = 4`\n"
     ]
    }
   ],
   "source": [
    "class MyClassWithoutLen:\n",
    "    def __init__(self):\n",
    "        pass\n",
    "\n",
    "class MyClassWithLen(MyClassWithoutLen):\n",
    "    def __len__(self):\n",
    "        return 4\n",
    "\n",
    "try:\n",
    "    a = MyClassWithoutLen()\n",
    "    len(a)\n",
    "except TypeError as e:\n",
    "    print(f'This raises error: {e}')\n",
    "\n",
    "a = MyClassWithLen()\n",
    "print(f'If I define a `__len__` method, now my class responds to `len(a) = {len(a)}`')"
   ]
  },
  {
   "cell_type": "markdown",
   "metadata": {},
   "source": [
    "Some special methods allow your class to respond to operators  (e.g. `+`, `|`) or built in Python functions, like `len` or `abs` or others). \n",
    "\n",
    "**Note**: This is called operator overloading, which is not available in some languages, like Java, where `+` only works with primitive types. \n",
    "\n",
    "\n",
    "The `Vector` class is an example:"
   ]
  },
  {
   "cell_type": "code",
   "execution_count": 15,
   "metadata": {},
   "outputs": [],
   "source": [
    "import math\n",
    "\n",
    "class Vector:\n",
    "\n",
    "    def __init__(self, x=0, y=0):\n",
    "        self.x = x\n",
    "        self.y = y\n",
    "\n",
    "    def __repr__(self):\n",
    "        return f'Vector({self.x!r}, {self.y!r})'\n",
    "\n",
    "    def __abs__(self):\n",
    "        return math.hypot(self.x, self.y)\n",
    "\n",
    "    def __bool__(self):\n",
    "        return bool(abs(self))\n",
    "\n",
    "    def __add__(self, other):\n",
    "        # Note: this only works for adding Vector to another vector, not a scalar.\n",
    "        x = self.x + other.x\n",
    "        y = self.y + other.y\n",
    "        return Vector(x, y)\n",
    "\n",
    "    def __mul__(self, scalar):\n",
    "        # Note: this only works for mult Vector to a scalar;\n",
    "        # It also fails if you type 3*v\n",
    "        return Vector(self.x * scalar, self.y * scalar)"
   ]
  },
  {
   "cell_type": "code",
   "execution_count": 16,
   "metadata": {},
   "outputs": [
    {
     "name": "stdout",
     "output_type": "stream",
     "text": [
      "Vector(4, 5)\n",
      "13.416407864998739\n"
     ]
    }
   ],
   "source": [
    "v1 = Vector(2, 4)\n",
    "v2 = Vector(2, 1)\n",
    "\n",
    "print(v1 + v2)\n",
    "\n",
    "print(abs(v1*3))\n",
    "# but 3*v1 would raise an error"
   ]
  },
  {
   "cell_type": "code",
   "execution_count": null,
   "metadata": {},
   "outputs": [],
   "source": []
  }
 ],
 "metadata": {
  "kernelspec": {
   "display_name": "3.10.11-ml",
   "language": "python",
   "name": "python3"
  },
  "language_info": {
   "codemirror_mode": {
    "name": "ipython",
    "version": 3
   },
   "file_extension": ".py",
   "mimetype": "text/x-python",
   "name": "python",
   "nbconvert_exporter": "python",
   "pygments_lexer": "ipython3",
   "version": "3.10.11"
  }
 },
 "nbformat": 4,
 "nbformat_minor": 2
}
