{
 "cells": [
  {
   "cell_type": "markdown",
   "metadata": {},
   "source": [
    "# Advanced examples with list comprehensions and generators\n",
    "\n",
    "This is an extract of Fluent Python [Chap. 2 examples](https://github.com/fluentpython/example-code-2e/blob/master/02-array-seq/array-seq.ipynb)"
   ]
  },
  {
   "cell_type": "markdown",
   "metadata": {},
   "source": [
    "# Bugs due to Immutable objects storing mutable objects\n",
    "Bugs can occur it I stuck in an immutable ojects (like a tuple) a mutable one, like a list. You can use the hash function to check if you are not writing vulnerable code."
   ]
  },
  {
   "cell_type": "code",
   "execution_count": 1,
   "metadata": {},
   "outputs": [
    {
     "name": "stdout",
     "output_type": "stream",
     "text": [
      "The tuple contains a mutable object\n",
      "This tuple only contains immutable objects, so is hashable\n"
     ]
    },
    {
     "data": {
      "text/plain": [
       "1850231896817634060"
      ]
     },
     "execution_count": 1,
     "metadata": {},
     "output_type": "execute_result"
    }
   ],
   "source": [
    "# This tuple that contains mutable objects and may lead to bugs\n",
    "t = ([1,2,3], 'this', 'is', 'mutable', 'stuff')\n",
    "# You can check the mutability of the objects insude it, using the hash function\n",
    "for x in t:\n",
    "    try:\n",
    "        hash(x)\n",
    "    except TypeError:\n",
    "        print('The tuple contains a mutable object')\n",
    "        break\n",
    "\n",
    "# In realty, you can check this more quickly using hash on th tuple itself. \n",
    "# If the container is immutable, and only contains immutable objects, you'll be able to get a hash key.\n",
    "print('This tuple only contains immutable objects, so is hashable')\n",
    "t = (1, 'this', 'is', 'immutable', 'stuff')\n",
    "hash(t)"
   ]
  },
  {
   "cell_type": "markdown",
   "metadata": {},
   "source": [
    "# Walrus operator `:=`"
   ]
  },
  {
   "cell_type": "code",
   "execution_count": 2,
   "metadata": {},
   "outputs": [
    {
     "data": {
      "text/plain": [
       "64"
      ]
     },
     "execution_count": 2,
     "metadata": {},
     "output_type": "execute_result"
    }
   ],
   "source": [
    "# Walrus operator :=\n",
    "# When a variable is assigned using this operator, it remains accessible outside the scope of the list comprehension\n",
    "x = '$%^£@'\n",
    "codes = [last := ord(c) for c in x]\n",
    "last"
   ]
  },
  {
   "cell_type": "markdown",
   "metadata": {},
   "source": [
    "# List comprehension can be seen as a \"shortcut\" of `map` and `filter` \n",
    "\n",
    "See the example below. Note that in situations `map` and `filter` together may be faster. Speed test!"
   ]
  },
  {
   "cell_type": "code",
   "execution_count": 3,
   "metadata": {},
   "outputs": [
    {
     "data": {
      "text/plain": [
       "[163]"
      ]
     },
     "execution_count": 3,
     "metadata": {},
     "output_type": "execute_result"
    }
   ],
   "source": [
    "codes_filtered = list(\n",
    "    filter(\n",
    "        lambda c: c > 120, \n",
    "        map(ord, x) # creates a generator that applies `ord`` to all elements of x \n",
    "))\n",
    "codes_filtered\n"
   ]
  },
  {
   "cell_type": "markdown",
   "metadata": {},
   "source": [
    "# Generator expressions to build tuples and arrays\n",
    "To build arrays/tuples you could start from list comprehension and convert to tuple/array. But you can save memory by using generator expressions, which yields an item at time through the iterator protocol.\n",
    "\n",
    "- A generator expression is **always** in parenthesis `(...)` unless they are the **single** argument of a function."
   ]
  },
  {
   "cell_type": "code",
   "execution_count": 4,
   "metadata": {},
   "outputs": [
    {
     "name": "stdout",
     "output_type": "stream",
     "text": [
      "(36, 37, 94, 163, 64)\n",
      "array('I', [36, 37, 94, 163, 64])\n"
     ]
    }
   ],
   "source": [
    "t = tuple(ord(c) for c in x)\n",
    "print(t)\n",
    "import array \n",
    "a = array.array('I', (ord(c) for c in x))\n",
    "print(a)"
   ]
  },
  {
   "cell_type": "markdown",
   "metadata": {},
   "source": [
    "# `*` for Packing/Unpacking\n",
    "\n",
    "`*anything` unpacks any number of arguments."
   ]
  },
  {
   "cell_type": "code",
   "execution_count": 5,
   "metadata": {},
   "outputs": [
    {
     "name": "stdout",
     "output_type": "stream",
     "text": [
      "['not', 'important', 'arguments']\n"
     ]
    }
   ],
   "source": [
    "a, *other, b, c = 1, 'not', 'important', 'arguments', 2, 3\n",
    "print(other)"
   ]
  },
  {
   "cell_type": "markdown",
   "metadata": {},
   "source": [
    "It can not be used in functions, though - unless you stick to the usual convention of adding keyword arguments after `*args, **kwargs` format. For call below, only works if the last arguments are passed as keywords:"
   ]
  },
  {
   "cell_type": "code",
   "execution_count": 6,
   "metadata": {},
   "outputs": [
    {
     "name": "stdout",
     "output_type": "stream",
     "text": [
      "args=(0, 0, 0)\n",
      "a=1, b=2, c=3, d=4\n",
      "f(1, 2, 0, 0, 0, 3, 4) -> `TypeError: f() missing 2 required keyword-only arguments: 'c' and 'd'`\n"
     ]
    }
   ],
   "source": [
    "def f(a, b, *args, c, d):\n",
    "    print(f'args={args}')\n",
    "    print(f'a={a}, b={b}, c={c}, d={d}')\n",
    "f(1, 2, 0, 0, 0, c=3, d=4)\n",
    "try:\n",
    "    f(1, 2, 0, 0, 0, 3, 4)\n",
    "except TypeError:\n",
    "    print('''f(1, 2, 0, 0, 0, 3, 4) -> `TypeError: f() missing 2 required keyword-only arguments: 'c' and 'd'`''')"
   ]
  },
  {
   "cell_type": "markdown",
   "metadata": {},
   "source": [
    "# Slices\n",
    "\n",
    "Slices are objects. They are only 1D, but the `[]` operator can take multiple slices at time."
   ]
  },
  {
   "cell_type": "code",
   "execution_count": 7,
   "metadata": {},
   "outputs": [
    {
     "name": "stdout",
     "output_type": "stream",
     "text": [
      "['group_id', 'personal_id', 'name', 'surname']\n",
      "['name', 'surname']\n"
     ]
    }
   ],
   "source": [
    "all_ids = slice(0,4,1)\n",
    "name_ids = slice(2,4,1)\n",
    "L = ['group_id', 'personal_id', 'name', 'surname']\n",
    "print(L[all_ids])\n",
    "print(L[name_ids])\n"
   ]
  },
  {
   "cell_type": "markdown",
   "metadata": {},
   "source": [
    "# Memoryview\n",
    "\n",
    "Allows sharing slices of arrays (and other flat sequences; not lists of tuple) without copying the bytes. This memory can be shared also to other objects. Let's see an example:"
   ]
  },
  {
   "cell_type": "code",
   "execution_count": 8,
   "metadata": {},
   "outputs": [
    {
     "name": "stdout",
     "output_type": "stream",
     "text": [
      "array('b', [99, 1, 2, 3, 4, 5])\n",
      "[99, 1, 2, 3, 4, 5]\n",
      "array('b', [100, 1, 2, 3, 40, 5])\n",
      "L is a bit obscure...\n",
      "<memory at 0x10763e4d0>\n"
     ]
    }
   ],
   "source": [
    "from array import array\n",
    "a = array('b', range(6))\n",
    "# arrays share memory by default - nothing special here\n",
    "b = a \n",
    "b[0] = 99\n",
    "print(a)\n",
    "# however, once I cast into a list, memory is not shared anymore\n",
    "L = a.tolist()\n",
    "a[0] = 100 \n",
    "print(L)\n",
    "# unless I use a memory view\n",
    "mview = memoryview(a)\n",
    "mview.tolist()\n",
    "L = mview.cast('b',[2,3])\n",
    "L[1,1] = 40 \n",
    "print(a)\n",
    "print('L is a bit obscure...')\n",
    "print(L)"
   ]
  },
  {
   "cell_type": "code",
   "execution_count": null,
   "metadata": {},
   "outputs": [],
   "source": []
  },
  {
   "cell_type": "code",
   "execution_count": null,
   "metadata": {},
   "outputs": [],
   "source": []
  }
 ],
 "metadata": {
  "kernelspec": {
   "display_name": "Python 3",
   "language": "python",
   "name": "python3"
  },
  "language_info": {
   "codemirror_mode": {
    "name": "ipython",
    "version": 3
   },
   "file_extension": ".py",
   "mimetype": "text/x-python",
   "name": "python",
   "nbconvert_exporter": "python",
   "pygments_lexer": "ipython3",
   "version": "3.10.8"
  }
 },
 "nbformat": 4,
 "nbformat_minor": 2
}
