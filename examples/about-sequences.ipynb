{
 "cells": [
  {
   "cell_type": "markdown",
   "metadata": {},
   "source": [
    "# Advanced examples with list comprehensions and generators\n",
    "\n",
    "This is an extract of Fluent Python [Chap. 2 examples](https://github.com/fluentpython/example-code-2e/blob/master/02-array-seq/array-seq.ipynb)"
   ]
  },
  {
   "cell_type": "markdown",
   "metadata": {},
   "source": [
    "# Walrus operator `:=`"
   ]
  },
  {
   "cell_type": "code",
   "execution_count": 2,
   "metadata": {},
   "outputs": [
    {
     "data": {
      "text/plain": [
       "64"
      ]
     },
     "execution_count": 2,
     "metadata": {},
     "output_type": "execute_result"
    }
   ],
   "source": [
    "# Walrus operator :=\n",
    "# When a variable is assigned using this operator, it remains accessible outside the scope of the list comprehension\n",
    "x = '$%^£@'\n",
    "codes = [last := ord(c) for c in x]\n",
    "last"
   ]
  },
  {
   "cell_type": "markdown",
   "metadata": {},
   "source": [
    "# List comprehension as a \"shortcut\" of `map` and `filter` \n",
    "\n",
    "- but in situations `map` and `filter` together may be faster. Speed test!"
   ]
  },
  {
   "cell_type": "code",
   "execution_count": 7,
   "metadata": {},
   "outputs": [
    {
     "data": {
      "text/plain": [
       "[163]"
      ]
     },
     "execution_count": 7,
     "metadata": {},
     "output_type": "execute_result"
    }
   ],
   "source": [
    "codes_filtered = list(\n",
    "    filter(\n",
    "        lambda c: c > 120, \n",
    "        map(ord, x) # creates a generator that applies `ord`` to all elements of x \n",
    "))\n",
    "codes_filtered\n"
   ]
  },
  {
   "cell_type": "markdown",
   "metadata": {},
   "source": [
    "# Generator express to build tuples and arrays\n",
    "To build arrays/tuples you could start from list comprehension and convert to tuple/array. But you can save memory by using generator expressions, which yields an item at time through the iterator protocol.\n",
    "\n",
    "- A generator expression is **always** in parenthesis `(...)` unless they are the **single** argument of a function."
   ]
  },
  {
   "cell_type": "code",
   "execution_count": 12,
   "metadata": {},
   "outputs": [
    {
     "name": "stdout",
     "output_type": "stream",
     "text": [
      "(36, 37, 94, 163, 64)\n",
      "array('I', [36, 37, 94, 163, 64])\n"
     ]
    }
   ],
   "source": [
    "t = tuple(ord(c) for c in x)\n",
    "print(t)\n",
    "import array \n",
    "a = array.array('I', (ord(c) for c in x))\n",
    "print(a)"
   ]
  },
  {
   "cell_type": "code",
   "execution_count": null,
   "metadata": {},
   "outputs": [],
   "source": []
  }
 ],
 "metadata": {
  "kernelspec": {
   "display_name": "Python 3",
   "language": "python",
   "name": "python3"
  },
  "language_info": {
   "codemirror_mode": {
    "name": "ipython",
    "version": 3
   },
   "file_extension": ".py",
   "mimetype": "text/x-python",
   "name": "python",
   "nbconvert_exporter": "python",
   "pygments_lexer": "ipython3",
   "version": "3.10.11"
  }
 },
 "nbformat": 4,
 "nbformat_minor": 2
}
