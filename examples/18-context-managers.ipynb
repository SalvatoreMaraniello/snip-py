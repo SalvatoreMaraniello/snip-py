{
 "cells": [
  {
   "cell_type": "markdown",
   "metadata": {},
   "source": [
    "# Context Manager\n"
   ]
  },
  {
   "cell_type": "code",
   "execution_count": 2,
   "metadata": {},
   "outputs": [],
   "source": [
    "# tag::MIRROR_EX[]\n",
    "import sys\n",
    "\n",
    "\n",
    "class LookingGlass:\n",
    "\n",
    "    def __enter__(self):  # Executes when we enter the with statement\n",
    "\n",
    "        # Take a copy of current standard output. Note: this is not the proper way of working with\n",
    "        # stdout (which is a file on system, so normally you take a copy of it).\n",
    "        self.original_write = sys.stdout.write\n",
    "\n",
    "        # replace standard output with a custom function\n",
    "        sys.stdout.write = self.reverse_write\n",
    "\n",
    "        # This line is to showcase that, if not needed, we can return nothing (or rubbish), form\n",
    "        # this function.\n",
    "        return 'JABBERWOCKY'\n",
    "\n",
    "    def reverse_write(self, text):\n",
    "        # Simply write in reverse.\n",
    "        self.original_write(text[::-1])\n",
    "\n",
    "    def __exit__(self, exc_type, exc_value, traceback):\n",
    "        # Restore. Python calls __exit__ with None, None, None if all went well; if an exception is\n",
    "        # raised, the three arguments get the exception data, as described after this example.\n",
    "        sys.stdout.write = self.original_write  # <7>\n",
    "        if exc_type is ZeroDivisionError:  # <8>\n",
    "            print('Please DO NOT divide by zero!')\n",
    "            print(exc_value)\n",
    "            print(traceback)\n",
    "            return True  # <9>\n",
    "        # <10>\n",
    "# end::MIRROR_EX[]"
   ]
  },
  {
   "cell_type": "code",
   "execution_count": 3,
   "metadata": {},
   "outputs": [
    {
     "name": "stdout",
     "output_type": "stream",
     "text": [
      "esrever accac\n",
      "Please DO NOT divide by zero!\n",
      "division by zero\n",
      "<traceback object at 0x1106dc440>\n"
     ]
    }
   ],
   "source": [
    "with LookingGlass() as _:\n",
    "    print('cacca reverse')\n",
    "    print(1/0)"
   ]
  },
  {
   "cell_type": "code",
   "execution_count": null,
   "metadata": {},
   "outputs": [],
   "source": []
  }
 ],
 "metadata": {
  "kernelspec": {
   "display_name": "venv",
   "language": "python",
   "name": "python3"
  },
  "language_info": {
   "codemirror_mode": {
    "name": "ipython",
    "version": 3
   },
   "file_extension": ".py",
   "mimetype": "text/x-python",
   "name": "python",
   "nbconvert_exporter": "python",
   "pygments_lexer": "ipython3",
   "version": "3.11.4"
  }
 },
 "nbformat": 4,
 "nbformat_minor": 2
}
