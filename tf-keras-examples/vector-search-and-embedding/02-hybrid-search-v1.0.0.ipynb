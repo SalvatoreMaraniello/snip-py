{
 "cells": [
  {
   "cell_type": "code",
   "execution_count": 1,
   "metadata": {
    "id": "wDrRkb1v_LMi",
    "tags": []
   },
   "outputs": [],
   "source": [
    "# Copyright 2024 Google LLC\n",
    "#\n",
    "# Licensed under the Apache License, Version 2.0 (the \"License\");\n",
    "# you may not use this file except in compliance with the License.\n",
    "# You may obtain a copy of the License at\n",
    "#\n",
    "#     https://www.apache.org/licenses/LICENSE-2.0\n",
    "#\n",
    "# Unless required by applicable law or agreed to in writing, software\n",
    "# distributed under the License is distributed on an \"AS IS\" BASIS,\n",
    "# WITHOUT WARRANTIES OR CONDITIONS OF ANY KIND, either express or implied.\n",
    "# See the License for the specific language governing permissions and\n",
    "# limitations under the License."
   ]
  },
  {
   "cell_type": "markdown",
   "metadata": {
    "id": "pNK49xFFj8M1"
   },
   "source": [
    "# Combining Semantic & Keyword Search: A Hybrid Search Tutorial with Vertex AI Vector Search"
   ]
  },
  {
   "cell_type": "markdown",
   "metadata": {
    "id": "fArkSYhZ8Vr1"
   },
   "source": [
    "Vector Search supports hybrid search, a popular architecture pattern in information retrieval (IR) that combines both semantic search and keyword search (also called token-based search). With hybrid search, developers can take advantage of the best of the two approaches, effectively providing higher search quality.\n",
    "\n",
    "This tutorial explains the concepts of hybrid search, semantic search, and token-based search, and includes examples of how to set up token-based search and hybrid search."
   ]
  },
  {
   "cell_type": "markdown",
   "metadata": {
    "id": "uUVFcXFpCMxc"
   },
   "source": [
    "This tutorial takes about 1 hour, mostly on waiting for Vector Search deployment (30 minutes)."
   ]
  },
  {
   "cell_type": "markdown",
   "metadata": {
    "id": "JAPoU8Sm5E6e"
   },
   "source": [
    "<table align=\"left\">\n",
    "  <td style=\"text-align: center\">\n",
    "    <a href=\"https://colab.research.google.com/github/GoogleCloudPlatform/generative-ai/blob/main/embeddings/hybrid-search.ipynb\">\n",
    "      <img width=\"32px\" src=\"https://www.gstatic.com/pantheon/images/bigquery/welcome_page/colab-logo.svg\" alt=\"Google Colaboratory logo\"><br> Open in Colab\n",
    "    </a>\n",
    "  </td>\n",
    "  <td style=\"text-align: center\">\n",
    "    <a href=\"https://console.cloud.google.com/vertex-ai/colab/import/https:%2F%2Fraw.githubusercontent.com%2FGoogleCloudPlatform%2Fgenerative-ai%2Fmain%2Fembeddings%2Fhybrid-search.ipynb\">\n",
    "      <img width=\"32px\" src=\"https://lh3.googleusercontent.com/JmcxdQi-qOpctIvWKgPtrzZdJJK-J3sWE1RsfjZNwshCFgE_9fULcNpuXYTilIR2hjwN\" alt=\"Google Cloud Colab Enterprise logo\"><br> Open in Colab Enterprise\n",
    "    </a>\n",
    "  </td>\n",
    "  <td style=\"text-align: center\">\n",
    "    <a href=\"https://console.cloud.google.com/vertex-ai/workbench/deploy-notebook?download_url=https://raw.githubusercontent.com/GoogleCloudPlatform/generative-ai/main/embeddings/hybrid-search.ipynb\">\n",
    "      <img src=\"https://www.gstatic.com/images/branding/gcpiconscolors/vertexai/v1/32px.svg\" alt=\"Vertex AI logo\"><br> Open in Vertex AI Workbench\n",
    "    </a>\n",
    "  </td>\n",
    "  <td style=\"text-align: center\">\n",
    "    <a href=\"https://github.com/GoogleCloudPlatform/generative-ai/blob/main/embeddings/hybrid-search.ipynb\">\n",
    "      <img width=\"32px\" src=\"https://www.svgrepo.com/download/217753/github.svg\" alt=\"GitHub logo\"><br> View on GitHub\n",
    "    </a>\n",
    "  </td>\n",
    "</table>\n",
    "\n",
    "<div style=\"clear: both;\"></div>\n",
    "\n",
    "<b>Share to:</b>\n",
    "\n",
    "<a href=\"https://www.linkedin.com/sharing/share-offsite/?url=https%3A//github.com/GoogleCloudPlatform/generative-ai/blob/main/embeddings/hybrid-search.ipynb\" target=\"_blank\">\n",
    "  <img width=\"20px\" src=\"https://upload.wikimedia.org/wikipedia/commons/8/81/LinkedIn_icon.svg\" alt=\"LinkedIn logo\">\n",
    "</a>\n",
    "\n",
    "<a href=\"https://bsky.app/intent/compose?text=https%3A//github.com/GoogleCloudPlatform/generative-ai/blob/main/embeddings/hybrid-search.ipynb\" target=\"_blank\">\n",
    "  <img width=\"20px\" src=\"https://upload.wikimedia.org/wikipedia/commons/7/7a/Bluesky_Logo.svg\" alt=\"Bluesky logo\">\n",
    "</a>\n",
    "\n",
    "<a href=\"https://twitter.com/intent/tweet?url=https%3A//github.com/GoogleCloudPlatform/generative-ai/blob/main/embeddings/hybrid-search.ipynb\" target=\"_blank\">\n",
    "  <img width=\"20px\" src=\"https://upload.wikimedia.org/wikipedia/commons/5/5a/X_icon_2.svg\" alt=\"X logo\">\n",
    "</a>\n",
    "\n",
    "<a href=\"https://reddit.com/submit?url=https%3A//github.com/GoogleCloudPlatform/generative-ai/blob/main/embeddings/hybrid-search.ipynb\" target=\"_blank\">\n",
    "  <img width=\"20px\" src=\"https://redditinc.com/hubfs/Reddit%20Inc/Brand/Reddit_Logo.png\" alt=\"Reddit logo\">\n",
    "</a>\n",
    "\n",
    "<a href=\"https://www.facebook.com/sharer/sharer.php?u=https%3A//github.com/GoogleCloudPlatform/generative-ai/blob/main/embeddings/hybrid-search.ipynb\" target=\"_blank\">\n",
    "  <img width=\"20px\" src=\"https://upload.wikimedia.org/wikipedia/commons/5/51/Facebook_f_logo_%282019%29.svg\" alt=\"Facebook logo\">\n",
    "</a>            "
   ]
  },
  {
   "cell_type": "markdown",
   "metadata": {
    "id": "rsdWWUgC8nfO"
   },
   "source": [
    "# Why does hybrid search matter?\n",
    "\n",
    "As described in [Overview of Vector Search](https://cloud.google.com/vertex-ai/docs/vector-search/overview), semantic search with Vector Search can find items with semantic similarity by using queries.\n",
    "\n",
    "Embedding models such as [Vertex AI embeddings](https://cloud.google.com/vertex-ai/generative-ai/docs/embeddings/get-text-embeddings) build a vector space as a map of content meanings. Each text or multimodal embedding is a location in the map that represents the meaning of some content. As a simplified example, when an embedding model takes a text that discusses movies for 10%, music for 2%, and actors for 30%, it could represent this text with an embedding `[0.1, 0.02, 0.3]`. With Vector Search, you can quickly find other embeddings in its neighborhood. This searching by content meaning is called semantic search.\n",
    "\n",
    "![Semantic search image](https://cloud.google.com/vertex-ai/docs/vector-search/images/semantic_search.gif)\n",
    "\n",
    "Semantic search with embeddings and vector search can help make IT systems as smart as experienced librarians or shop staff. Embeddings can be used for tying different business data with their meanings; for example, queries and search results; texts and images; user activities and recommended products; English texts and Japanese texts; or sensor data and alerting conditions. With this capability, there's a wide variety of use cases for embeddings.\n",
    "\n",
    "## Why combine semantic search with keyword-based search?\n",
    "\n",
    "Semantic search doesn't cover all the possible requirements for information retrieval applications, such as [Retrieval-Augmented Generation (RAG)](https://cloud.google.com/use-cases/retrieval-augmented-generation). Semantic search can only find data that the embedding model can make sense of. For example, queries or datasets with arbitrary product numbers or SKUs, brand new product names that were added recently, and corporate proprietary codenames don't work with semantic search because they aren't included in the training dataset of the embedding model. This is called \"out of domain\" data.\n",
    "\n",
    "In such cases, you would need to combine semantic search with keyword-based (also called token-based) search to form a hybrid search. With hybrid search, you can take advantage of both semantic and token-based search to achieve higher search quality.\n",
    "\n",
    "One of the most popular hybrid search systems is Google Search. The service incorporated [semantic search in 2015 with RankBrain model](https://blog.google/products/search/how-ai-powers-great-search-results/), in addition to its token-based keyword search algorithm. With the introduction of hybrid search, Google Search was able to improve the search quality significantly by addressing the two requirements: search by meaning and search by keyword.\n",
    "\n",
    "In the past, building a hybrid search engine was a complex task. Just like with Google Search, you have to build and operate two different kinds of search engines (semantic search and token-based search) and merge and rank the results from them. With hybrid search support in Vector Search, you can build your own hybrid search system with a single Vector Search index, customized to your business requirements.\n",
    "\n",
    "## How token-based search works\n",
    "\n",
    "How does token-based search in Vector Search work? After [splitting the text into tokens](https://huggingface.co/docs/transformers/en/tokenizer_summary) (such as words or sub-words), you can use popular sparse embedding algorithms such as [TF-IDF](https://en.wikipedia.org/wiki/Tf%E2%80%93idf), [BM25](https://en.wikipedia.org/wiki/Okapi_BM25), or [SPLADE](https://en.wikipedia.org/wiki/Learned_sparse_retrieval) to generate sparse embedding for the text.\n",
    "\n",
    "A simplified explanation of sparse embeddings is that they are vectors that represent how many times each word or sub-word appears in the text. Typical sparse embeddings don't take semantics of the text into account.\n",
    "\n",
    "![Sparse embeddings image](https://cloud.google.com/vertex-ai/docs/vector-search/images/sparse_embeddings.png)\n",
    "\n",
    "There could be thousands of different words used in texts. Thus, this embedding usually has tens of thousands of dimensions, with only a few dimensions in them having non-zero values. This is why they're called \"sparse\" embeddings. The majority of their values are zeroes. This sparse embedding space works as a map of keywords, similar to an index of books.\n",
    "\n",
    "In this sparse embedding space, you can find similar embeddings by looking at the neighborhood of a query embedding. These embeddings are similar in terms of the distribution of the keywords used in their texts.\n",
    "\n",
    "![Token search image](https://cloud.google.com/vertex-ai/docs/vector-search/images/token_search.gif)\n",
    "\n",
    "This is the basic mechanism of the token-based search with sparse embeddings. With hybrid search in Vector Search, you can mix both dense and sparse embeddings into a single vector index and run queries with dense embeddings, sparse embeddings, or both. The result is a combination of semantic search and token-based search results.\n",
    "\n",
    "Hybrid search also provides shorter query latency compared to a token-based search engine with an [inverted index](https://en.wikipedia.org/wiki/Inverted_index) design. Just like vector search for semantic search, each query with dense or sparse embeddings finishes within milliseconds, even with millions or billions of items.\n"
   ]
  },
  {
   "cell_type": "markdown",
   "metadata": {
    "id": "KliK1dHx98_f"
   },
   "source": [
    "# Section 1. Create sparse embeddings\n",
    "\n",
    "In this first section of the notebook you willgenerate sparse embeddings and build a Vector Search endpoint.\n"
   ]
  },
  {
   "cell_type": "markdown",
   "metadata": {
    "id": "axMumYbIaUpk"
   },
   "source": [
    "## Task 2. Install packages, configure the notebook.\n",
    "\n",
    "The notebook uses Vertex AI SDK and Cloud Storage SDK, so you will need to install these. Once installed, you will then restart the kernel. After the kernel is restarted you will configure the notebook to work with your project and region assigned by Qwiklabs.\n"
   ]
  },
  {
   "cell_type": "code",
   "execution_count": 2,
   "metadata": {
    "id": "sZGqrhg5aZnj",
    "tags": []
   },
   "outputs": [
    {
     "name": "stdout",
     "output_type": "stream",
     "text": [
      "\u001b[33m  WARNING: The script tb-gcp-uploader is installed in '/home/jupyter/.local/bin' which is not on PATH.\n",
      "  Consider adding this directory to PATH or, if you prefer to suppress this warning, use --no-warn-script-location.\u001b[0m\u001b[33m\n",
      "\u001b[0m\n",
      "\u001b[1m[\u001b[0m\u001b[34;49mnotice\u001b[0m\u001b[1;39;49m]\u001b[0m\u001b[39;49m A new release of pip is available: \u001b[0m\u001b[31;49m25.2\u001b[0m\u001b[39;49m -> \u001b[0m\u001b[32;49m25.3\u001b[0m\n",
      "\u001b[1m[\u001b[0m\u001b[34;49mnotice\u001b[0m\u001b[1;39;49m]\u001b[0m\u001b[39;49m To update, run: \u001b[0m\u001b[32;49mpip install --upgrade pip\u001b[0m\n",
      "Note: you may need to restart the kernel to use updated packages.\n"
     ]
    }
   ],
   "source": [
    "%pip install --upgrade --quiet --user google-cloud-aiplatform google-cloud-storage"
   ]
  },
  {
   "cell_type": "code",
   "execution_count": 3,
   "metadata": {
    "tags": []
   },
   "outputs": [
    {
     "data": {
      "text/plain": [
       "{'status': 'ok', 'restart': True}"
      ]
     },
     "execution_count": 3,
     "metadata": {},
     "output_type": "execute_result"
    }
   ],
   "source": [
    "# Restart kernel after installs of that your environment can access the new packages\n",
    "import IPython\n",
    "\n",
    "app = IPython.Application.instance()\n",
    "app.kernel.do_shutdown(True)"
   ]
  },
  {
   "cell_type": "markdown",
   "metadata": {
    "id": "DF4l8DTdWgPY"
   },
   "source": [
    "### Set Google Cloud project information and initialize Vertex AI SDK\n",
    "\n",
    "To get started using Vertex AI, you must have an existing Google Cloud project and [enable the Vertex AI API](https://console.cloud.google.com/flows/enableapi?apiid=aiplatform.googleapis.com).\n",
    "\n",
    "Learn more about [setting up a project and a development environment](https://cloud.google.com/vertex-ai/docs/start/cloud-environment)."
   ]
  },
  {
   "cell_type": "code",
   "execution_count": 2,
   "metadata": {
    "id": "HPfsNnW1e5mm",
    "tags": []
   },
   "outputs": [
    {
     "name": "stdout",
     "output_type": "stream",
     "text": [
      "Project ID: qwiklabs-gcp-00-06c98f451e22\n",
      "Region: us-east4\n"
     ]
    }
   ],
   "source": [
    "# get project ID and set your region.\n",
    "PROJECT_ID = ! gcloud config get project\n",
    "PROJECT_ID = PROJECT_ID[0]\n",
    "LOCATION = \"us-east4\"\n",
    "print(f\"Project ID: {PROJECT_ID}\")\n",
    "print(f\"Region: {LOCATION}\")\n",
    "if PROJECT_ID == \"(unset)\":\n",
    "    print(f\"Please set the project ID manually below\")"
   ]
  },
  {
   "cell_type": "code",
   "execution_count": 3,
   "metadata": {
    "id": "xR81WstRZyaH",
    "tags": []
   },
   "outputs": [],
   "source": [
    "# define project information\n",
    "if PROJECT_ID == \"(unset)\":\n",
    "    PROJECT_ID = \"qwiklabs-gcp-00-06c98f451e22\"  # @param {type:\"string\"}"
   ]
  },
  {
   "cell_type": "code",
   "execution_count": 4,
   "metadata": {
    "id": "GXr6PQWRZv-q",
    "tags": []
   },
   "outputs": [],
   "source": [
    "# generate an unique id for this session\n",
    "from datetime import datetime\n",
    "\n",
    "UID = datetime.now().strftime(\"%m%d%H%M\")"
   ]
  },
  {
   "cell_type": "markdown",
   "metadata": {
    "id": "QulDaFf7Yodp"
   },
   "source": [
    "## Task 3. Prepare a sample dataset\n",
    "\n",
    "In this task you will prepare a data file to build an index for sparse embeddings, based on the data format described in [Input data format and structure](https://cloud.google.com/vertex-ai/docs/vector-search/setup/format-structure).\n",
    "\n",
    "In JSON, the data file looks like this:\n",
    "\n",
    "```\n",
    "{\"id\": \"3\", \"sparse_embedding\": {\"values\": [0.1, 0.2], \"dimensions\": [1, 4]}}\n",
    "{\"id\": \"4\", \"sparse_embedding\": {\"values\": [-0.4, 0.2, -1.3], \"dimensions\": [10, 20, 20]}}\n",
    "```\n",
    "\n",
    "Each item should have a `sparse_embedding` property that has `values` and `dimensions` properties. Sparse embeddings have thousands of dimensions with a few non-zero values. This data format works efficiently because it contains the non-zero values only with their positions in the space.\n",
    "\n",
    "As a sample dataset, we'll use the [Google Merch Shop](https://shop.merch.google/) dataset, which has about 200 rows of Google-branded goods."
   ]
  },
  {
   "cell_type": "code",
   "execution_count": 6,
   "metadata": {
    "id": "KAa1Ff5zaNKf",
    "tags": []
   },
   "outputs": [
    {
     "data": {
      "text/html": [
       "<div>\n",
       "<style scoped>\n",
       "    .dataframe tbody tr th:only-of-type {\n",
       "        vertical-align: middle;\n",
       "    }\n",
       "\n",
       "    .dataframe tbody tr th {\n",
       "        vertical-align: top;\n",
       "    }\n",
       "\n",
       "    .dataframe thead th {\n",
       "        text-align: right;\n",
       "    }\n",
       "</style>\n",
       "<table border=\"1\" class=\"dataframe\">\n",
       "  <thead>\n",
       "    <tr style=\"text-align: right;\">\n",
       "      <th></th>\n",
       "      <th>id</th>\n",
       "      <th>link</th>\n",
       "      <th>title</th>\n",
       "      <th>description</th>\n",
       "      <th>price</th>\n",
       "      <th>currency</th>\n",
       "      <th>availability</th>\n",
       "      <th>condition</th>\n",
       "      <th>image_link</th>\n",
       "      <th>mpn</th>\n",
       "    </tr>\n",
       "  </thead>\n",
       "  <tbody>\n",
       "    <tr>\n",
       "      <th>0</th>\n",
       "      <td>Google_Sticker</td>\n",
       "      <td>https://shop.merch.google/product/google-stick...</td>\n",
       "      <td>Google Sticker</td>\n",
       "      <td>Nothing beats a classic!  You can't go wrong w...</td>\n",
       "      <td>1.50 USD</td>\n",
       "      <td>USD</td>\n",
       "      <td>IN_STOCK</td>\n",
       "      <td>NEW</td>\n",
       "      <td>https://ik.imagekit.io/RM/store/20160512512/as...</td>\n",
       "      <td>GGOEGCKA166399</td>\n",
       "    </tr>\n",
       "    <tr>\n",
       "      <th>1</th>\n",
       "      <td>Google_Cloud_Sticker</td>\n",
       "      <td>https://shop.merch.google/product/google-cloud...</td>\n",
       "      <td>Google Cloud Sticker</td>\n",
       "      <td>Brighten up your tumbler, notebook, laptop, an...</td>\n",
       "      <td>1.50 USD</td>\n",
       "      <td>USD</td>\n",
       "      <td>IN_STOCK</td>\n",
       "      <td>NEW</td>\n",
       "      <td>https://ik.imagekit.io/RM/store/20160512512/as...</td>\n",
       "      <td>GGOECCKQ173599</td>\n",
       "    </tr>\n",
       "    <tr>\n",
       "      <th>2</th>\n",
       "      <td>Android_Black_Pen</td>\n",
       "      <td>https://shop.merch.google/product/android-blac...</td>\n",
       "      <td>Android Black Pen</td>\n",
       "      <td>Add a delightful addition to your writing stat...</td>\n",
       "      <td>2.00 USD</td>\n",
       "      <td>USD</td>\n",
       "      <td>IN_STOCK</td>\n",
       "      <td>NEW</td>\n",
       "      <td>https://ik.imagekit.io/RM/store/20160512512/as...</td>\n",
       "      <td>GGOEAOAB217899</td>\n",
       "    </tr>\n",
       "    <tr>\n",
       "      <th>3</th>\n",
       "      <td>Google_Ombre_Lime_Pen</td>\n",
       "      <td>https://shop.merch.google/product/google-ombre...</td>\n",
       "      <td>Google Ombre Lime Pen</td>\n",
       "      <td>You just can't help but feel a little cheery w...</td>\n",
       "      <td>2.00 USD</td>\n",
       "      <td>USD</td>\n",
       "      <td>IN_STOCK</td>\n",
       "      <td>NEW</td>\n",
       "      <td>https://ik.imagekit.io/RM/store/20160512512/as...</td>\n",
       "      <td>GGOEGOAA172299</td>\n",
       "    </tr>\n",
       "    <tr>\n",
       "      <th>4</th>\n",
       "      <td>For_Everyone_Eco_Pen</td>\n",
       "      <td>https://shop.merch.google/product/for-everyone...</td>\n",
       "      <td>For Everyone Eco Pen</td>\n",
       "      <td>Smooth writing and eco-friendly&amp;you've got a w...</td>\n",
       "      <td>2.00 USD</td>\n",
       "      <td>USD</td>\n",
       "      <td>IN_STOCK</td>\n",
       "      <td>NEW</td>\n",
       "      <td>https://ik.imagekit.io/RM/store/20160512512/as...</td>\n",
       "      <td>GGOEGOAQ196699</td>\n",
       "    </tr>\n",
       "  </tbody>\n",
       "</table>\n",
       "</div>"
      ],
      "text/plain": [
       "                      id                                               link  \\\n",
       "0         Google_Sticker  https://shop.merch.google/product/google-stick...   \n",
       "1   Google_Cloud_Sticker  https://shop.merch.google/product/google-cloud...   \n",
       "2      Android_Black_Pen  https://shop.merch.google/product/android-blac...   \n",
       "3  Google_Ombre_Lime_Pen  https://shop.merch.google/product/google-ombre...   \n",
       "4   For_Everyone_Eco_Pen  https://shop.merch.google/product/for-everyone...   \n",
       "\n",
       "                   title                                        description  \\\n",
       "0         Google Sticker  Nothing beats a classic!  You can't go wrong w...   \n",
       "1   Google Cloud Sticker  Brighten up your tumbler, notebook, laptop, an...   \n",
       "2      Android Black Pen  Add a delightful addition to your writing stat...   \n",
       "3  Google Ombre Lime Pen  You just can't help but feel a little cheery w...   \n",
       "4   For Everyone Eco Pen  Smooth writing and eco-friendly&you've got a w...   \n",
       "\n",
       "      price currency availability condition  \\\n",
       "0  1.50 USD      USD     IN_STOCK       NEW   \n",
       "1  1.50 USD      USD     IN_STOCK       NEW   \n",
       "2  2.00 USD      USD     IN_STOCK       NEW   \n",
       "3  2.00 USD      USD     IN_STOCK       NEW   \n",
       "4  2.00 USD      USD     IN_STOCK       NEW   \n",
       "\n",
       "                                          image_link             mpn  \n",
       "0  https://ik.imagekit.io/RM/store/20160512512/as...  GGOEGCKA166399  \n",
       "1  https://ik.imagekit.io/RM/store/20160512512/as...  GGOECCKQ173599  \n",
       "2  https://ik.imagekit.io/RM/store/20160512512/as...  GGOEAOAB217899  \n",
       "3  https://ik.imagekit.io/RM/store/20160512512/as...  GGOEGOAA172299  \n",
       "4  https://ik.imagekit.io/RM/store/20160512512/as...  GGOEGOAQ196699  "
      ]
     },
     "metadata": {},
     "output_type": "display_data"
    }
   ],
   "source": [
    "import pandas as pd\n",
    "\n",
    "CSV_URL = \"https://storage.googleapis.com/spls/gsp1297/google_merch_shop_items.csv\"\n",
    "\n",
    "# Load the CSV file into a DataFrame\n",
    "df = pd.read_csv(CSV_URL)\n",
    "display(df.head())\n",
    "# df[\"title\"]"
   ]
  },
  {
   "cell_type": "markdown",
   "metadata": {
    "id": "AkcwG37lAfoS"
   },
   "source": [
    "## Task 4. Create sparse embeddings\n",
    "\n",
    "With the dataset, you will create sparse embeddings with TF-IDF vectorizer."
   ]
  },
  {
   "cell_type": "markdown",
   "metadata": {
    "id": "UBzaDGpYYodr"
   },
   "source": [
    "### Prepare a TF-IDF vectorizer\n",
    "With this dataset, we'll train a vectorizer, a model that generates sparse embeddings from a text. This example uses [TfidfVectorizer in scikit-learn](https://scikit-learn.org/stable/modules/generated/sklearn.feature_extraction.text.TfidfVectorizer.html), which is a basic vectorizer that uses the [TF-IDF algorithm](https://en.wikipedia.org/wiki/Tf%E2%80%93idf)."
   ]
  },
  {
   "cell_type": "code",
   "execution_count": 7,
   "metadata": {
    "id": "DfQhFEa7Yodr",
    "tags": []
   },
   "outputs": [
    {
     "data": {
      "text/plain": [
       "<Compressed Sparse Row sparse matrix of dtype 'float64'\n",
       "\twith 839 stored elements and shape (202, 243)>"
      ]
     },
     "execution_count": 7,
     "metadata": {},
     "output_type": "execute_result"
    }
   ],
   "source": [
    "from sklearn.feature_extraction.text import TfidfVectorizer\n",
    "\n",
    "# Sample Text Data\n",
    "corpus = df.title.tolist()\n",
    "\n",
    "# Initialize TfidfVectorizer\n",
    "vectorizer = TfidfVectorizer()\n",
    "\n",
    "# Fit and Transform\n",
    "vectorizer.fit_transform(corpus)"
   ]
  },
  {
   "cell_type": "code",
   "execution_count": 26,
   "metadata": {
    "tags": []
   },
   "outputs": [
    {
     "name": "stdout",
     "output_type": "stream",
     "text": [
      "embeding shape: (1, 243)\n",
      "Non-zero values: [0.52129134 0.52129134 0.67565574]\n",
      "Non-zero indices: [ 33  48 157]\n"
     ]
    }
   ],
   "source": [
    "# sample usage:\n",
    "text_text = \"Chrome Dino Pin\"\n",
    "vector_sparse = vectorizer.transform([text_text])\n",
    "vector_full = vector.toarray() # converts to full array (1,243). Mostly zeros...\n",
    "print( f'embeding shape: {vector_full.shape}')\n",
    "\n",
    "print(f'Non-zero values: {vector_sparse.data}')\n",
    "print(f'Non-zero indices: {vector_sparse.indices}')"
   ]
  },
  {
   "cell_type": "markdown",
   "metadata": {
    "id": "VCFLoP78B7G2"
   },
   "source": [
    "The variable `corpus` holds a list of the 200 item names, such as \"Google Sticker\" or \"Chrome Dino Pin\". Then, the code passes them to the vectorizer by calling the `fit_transform()` function. With that, the vectorizer gets ready to generate sparse embeddings.\n",
    "\n",
    "TF-IDF vectorizer tries to give higher weight to signature words in the dataset (such as \"Shirts\" or \"Dino\") compared to trivial words (such as \"The\", \"a\", or \"of\"), and counts how many times those signature words are used in the specified document. Each value of a sparse embedding represents a frequency of each word based on the counts. For more information about TF-IDF, see the later section \"How do TF-IDF and TfidfVectorizer work?\".\n",
    "\n",
    "In this example, we use the basic word-level tokenization and TF-IDF vectorization for simplicity. In production development, you can choose any other options for tokenizations and vectorizations for generating sparse embeddings based on your requirements. For tokenizers, in many cases [subword tokenizers](https://www.tensorflow.org/text/guide/subwords_tokenizer) perform well compared to the word-level tokenization and are popular choices. For vectorizers, [BM25](https://en.wikipedia.org/wiki/Okapi_BM25) is popular as an improved version of TF-IDF. [SPLADE](https://en.wikipedia.org/wiki/Learned_sparse_retrieval) is another popular vectorization algorithm that takes some semantics for the sparse embedding.\n",
    "\n",
    "### Get a sparse embedding\n",
    "To make the vectorizer easier to use with Vector Search, we'll define a wrapper function, get_sparse_embedding():"
   ]
  },
  {
   "cell_type": "code",
   "execution_count": 27,
   "metadata": {
    "id": "as6pjlwBYodr",
    "tags": []
   },
   "outputs": [],
   "source": [
    "def get_sparse_embedding(text):\n",
    "    # Transform Text into TF-IDF Sparse Vector\n",
    "    tfidf_vector = vectorizer.transform([text])\n",
    "\n",
    "    # Create Sparse Embedding for the New Text\n",
    "    values = []\n",
    "    dims = []\n",
    "    for i, tfidf_value in enumerate(tfidf_vector.data):\n",
    "        values.append(float(tfidf_value))\n",
    "        dims.append(int(tfidf_vector.indices[i]))\n",
    "    return {\"values\": values, \"dimensions\": dims}"
   ]
  },
  {
   "cell_type": "markdown",
   "metadata": {
    "id": "SxPHuqkwCdzW"
   },
   "source": [
    "This function passes the parameter \"text\" to the vectorizer to generate a sparse embedding. Then convert it to the `{\"values\": ...., \"dimensions\": ...}` format mentioned earlier for building a Vector Search sparse index.\n",
    "\n",
    "You can test this function:"
   ]
  },
  {
   "cell_type": "code",
   "execution_count": 28,
   "metadata": {
    "id": "nC2JBCZAYodr",
    "tags": []
   },
   "outputs": [
    {
     "data": {
      "text/plain": [
       "{'values': [0.5212913389979028, 0.5212913389979028, 0.6756557405747007],\n",
       " 'dimensions': [33, 48, 157]}"
      ]
     },
     "execution_count": 28,
     "metadata": {},
     "output_type": "execute_result"
    }
   ],
   "source": [
    "text_text = \"Chrome Dino Pin\"\n",
    "get_sparse_embedding(text_text)"
   ]
  },
  {
   "cell_type": "markdown",
   "metadata": {
    "id": "O6SfR7Z6hFIC"
   },
   "source": [
    "### Create an input data file\n",
    "For this example, we'll generate sparse embeddings for all 200 items."
   ]
  },
  {
   "cell_type": "code",
   "execution_count": 29,
   "metadata": {
    "id": "BizNf7S2f298",
    "tags": []
   },
   "outputs": [],
   "source": [
    "# set BUCKET_URI\n",
    "BUCKET_URI = f\"gs://{PROJECT_ID}\""
   ]
  },
  {
   "cell_type": "code",
   "execution_count": 30,
   "metadata": {
    "id": "wvTkcSl0hgVf",
    "tags": []
   },
   "outputs": [
    {
     "data": {
      "text/plain": [
       "[{'id': 0,\n",
       "  'title': 'Google Sticker',\n",
       "  'sparse_embedding': {'values': [0.359853737603667, 0.933008728540452],\n",
       "   'dimensions': [78, 191]}},\n",
       " {'id': 1,\n",
       "  'title': 'Google Cloud Sticker',\n",
       "  'sparse_embedding': {'values': [0.6748802084233179,\n",
       "    0.26554589800720163,\n",
       "    0.6884926145791601],\n",
       "   'dimensions': [37, 78, 191]}},\n",
       " {'id': 2,\n",
       "  'title': 'Android Black Pen',\n",
       "  'sparse_embedding': {'values': [0.6047574200373373,\n",
       "    0.5468824106727572,\n",
       "    0.578954308910934],\n",
       "   'dimensions': [2, 16, 153]}},\n",
       " {'id': 3,\n",
       "  'title': 'Google Ombre Lime Pen',\n",
       "  'sparse_embedding': {'values': [0.17037530980725205,\n",
       "    0.6623352815578535,\n",
       "    0.580646486216207,\n",
       "    0.4417396140901719],\n",
       "   'dimensions': [78, 119, 141, 153]}},\n",
       " {'id': 4,\n",
       "  'title': 'For Everyone Eco Pen',\n",
       "  'sparse_embedding': {'values': [0.4026169000806075,\n",
       "    0.5533375082080382,\n",
       "    0.5533375082080382,\n",
       "    0.4749050808211264],\n",
       "   'dimensions': [56, 61, 67, 153]}}]"
      ]
     },
     "execution_count": 30,
     "metadata": {},
     "output_type": "execute_result"
    }
   ],
   "source": [
    "items = []\n",
    "for i in range(len(df)):\n",
    "    id = i\n",
    "    title = df.title[i]\n",
    "    sparse_embedding = get_sparse_embedding(title)\n",
    "    items.append({\"id\": id, \"title\": title, \"sparse_embedding\": sparse_embedding})\n",
    "items[:5]"
   ]
  },
  {
   "cell_type": "markdown",
   "metadata": {
    "id": "N0utF16hCv8H"
   },
   "source": [
    "Then, save them as a JSONL file `items.json` and upload to a Cloud Storage bucket."
   ]
  },
  {
   "cell_type": "code",
   "execution_count": 31,
   "metadata": {
    "id": "M_XphPWwh_4h",
    "tags": []
   },
   "outputs": [
    {
     "name": "stdout",
     "output_type": "stream",
     "text": [
      "Copying file://items.json [Content-Type=application/json]...\n",
      "/ [1 files][ 39.9 KiB/ 39.9 KiB]                                                \n",
      "Operation completed over 1 objects/39.9 KiB.                                     \n"
     ]
    }
   ],
   "source": [
    "# output as a JSONL file and save to the GCS bucket\n",
    "with open(\"items.json\", \"w\") as f:\n",
    "    for item in items:\n",
    "        f.write(f\"{item}\\n\")\n",
    "! gsutil cp items.json $BUCKET_URI"
   ]
  },
  {
   "cell_type": "markdown",
   "metadata": {
    "id": "gsf50GDiAnHy"
   },
   "source": [
    "# Section 2. Use hybrid search\n",
    "\n",
    "With this section of the notebook, you will combine token-based search with semantic search to create hybrid search in Vector Search."
   ]
  },
  {
   "cell_type": "markdown",
   "metadata": {
    "id": "73DaRoBFffQP"
   },
   "source": [
    "## Task 5. Create a index endpoint and sparse embedding index in Vector Search\n",
    "Next, we'll build and deploy a sparse embedding index in Vector Search. This is the same procedure that is documented in the [Vector Search quickstart](https://cloud.google.com/vertex-ai/docs/vector-search/quickstart#create_an_index)."
   ]
  },
  {
   "cell_type": "code",
   "execution_count": 32,
   "metadata": {
    "id": "KnTpBptndTSq",
    "tags": []
   },
   "outputs": [],
   "source": [
    "# init the aiplatform package\n",
    "from google.cloud import aiplatform\n",
    "\n",
    "aiplatform.init(project=PROJECT_ID, location=LOCATION)"
   ]
  },
  {
   "cell_type": "markdown",
   "metadata": {
    "id": "CCIYzxTSDBcp"
   },
   "source": [
    "To use the index, you need to create an index endpoint. It works as a server instance accepting query requests for your index."
   ]
  },
  {
   "cell_type": "code",
   "execution_count": 33,
   "metadata": {
    "id": "dWYwANgoi9W7",
    "tags": []
   },
   "outputs": [],
   "source": [
    "# create `IndexEndpoint`\n",
    "my_index_endpoint = aiplatform.MatchingEngineIndexEndpoint.create(\n",
    "    display_name=f\"vs-hybridsearch-index-endpoint-{UID}\", public_endpoint_enabled=True\n",
    ")"
   ]
  },
  {
   "cell_type": "markdown",
   "metadata": {},
   "source": [
    "## Task 6. Create the hybrid index and deploy it to the Endpoint\n",
    "\n",
    "To build a hybrid index, each item should have both `embedding` (for dense embedding) and `sparse_embedding`:"
   ]
  },
  {
   "cell_type": "code",
   "execution_count": 36,
   "metadata": {
    "id": "sV68SZhiCynL",
    "tags": []
   },
   "outputs": [
    {
     "name": "stdout",
     "output_type": "stream",
     "text": [
      "Dense embedding length: 768\n"
     ]
    }
   ],
   "source": [
    "# get text embedding model\n",
    "from vertexai.preview.language_models import TextEmbeddingModel\n",
    "\n",
    "model = TextEmbeddingModel.from_pretrained(\"text-embedding-005\")\n",
    "\n",
    "\n",
    "# wrapper\n",
    "def get_dense_embedding(text):\n",
    "    return model.get_embeddings([text])[0].values\n",
    "\n",
    "# test it\n",
    "vector_dense = get_dense_embedding(\"Chrome Dino Pin\")\n",
    "print( f'Dense embedding length: {len(vector_dense)}')"
   ]
  },
  {
   "cell_type": "code",
   "execution_count": 37,
   "metadata": {
    "id": "0ZZgv0p7DMXU",
    "tags": []
   },
   "outputs": [
    {
     "data": {
      "text/plain": [
       "{'id': 0,\n",
       " 'title': 'Google Sticker',\n",
       " 'embedding': [-0.03987061604857445,\n",
       "  -0.024059025570750237,\n",
       "  0.007583143189549446,\n",
       "  -0.03038311004638672,\n",
       "  -0.030984411016106606,\n",
       "  0.026356300339102745,\n",
       "  0.002902301261201501,\n",
       "  0.02151869237422943,\n",
       "  0.02528325654566288,\n",
       "  -0.049931954592466354,\n",
       "  -0.02521655336022377,\n",
       "  -0.009701521135866642,\n",
       "  0.00044908939162269235,\n",
       "  -0.0077801598235964775,\n",
       "  -0.0061866650357842445,\n",
       "  0.06580411642789841,\n",
       "  0.04893144220113754,\n",
       "  -0.009341899305582047,\n",
       "  -0.046450331807136536,\n",
       "  0.0064634461887180805,\n",
       "  0.07654350250959396,\n",
       "  -0.03756190091371536,\n",
       "  -0.05050390958786011,\n",
       "  -0.04051468148827553,\n",
       "  0.04572240263223648,\n",
       "  -0.020052658393979073,\n",
       "  -0.028284423053264618,\n",
       "  0.0048344493843615055,\n",
       "  -0.04194609075784683,\n",
       "  0.051230285316705704,\n",
       "  0.02889581397175789,\n",
       "  0.009107357822358608,\n",
       "  0.013996689580380917,\n",
       "  0.010416725650429726,\n",
       "  -0.04310084134340286,\n",
       "  0.023628728464245796,\n",
       "  0.014768756926059723,\n",
       "  0.006094739306718111,\n",
       "  0.022468941286206245,\n",
       "  0.020021140575408936,\n",
       "  -0.032010775059461594,\n",
       "  -0.12565483152866364,\n",
       "  -0.04700765013694763,\n",
       "  -0.0270133875310421,\n",
       "  -0.04402616620063782,\n",
       "  0.027778636664152145,\n",
       "  -0.042260605841875076,\n",
       "  -0.03093157894909382,\n",
       "  0.048163048923015594,\n",
       "  0.06263139843940735,\n",
       "  0.04484231397509575,\n",
       "  0.07516897469758987,\n",
       "  -0.009657643735408783,\n",
       "  -0.07160065323114395,\n",
       "  -0.006331484764814377,\n",
       "  0.024727964773774147,\n",
       "  0.012841891497373581,\n",
       "  -0.023157475516200066,\n",
       "  -0.0005102482391521335,\n",
       "  -0.000915723096113652,\n",
       "  -0.004583569709211588,\n",
       "  0.03235552832484245,\n",
       "  -0.01371131930500269,\n",
       "  0.01006555650383234,\n",
       "  0.0008245137287303805,\n",
       "  -0.0003422792360652238,\n",
       "  -0.012264400720596313,\n",
       "  0.05842799320816994,\n",
       "  0.03845909237861633,\n",
       "  -0.011557315476238728,\n",
       "  0.03147227317094803,\n",
       "  -0.013433700427412987,\n",
       "  -0.032479178160429,\n",
       "  -0.04693591967225075,\n",
       "  0.05984366312623024,\n",
       "  -0.03800290450453758,\n",
       "  0.03407345339655876,\n",
       "  0.02431439608335495,\n",
       "  -0.03703700751066208,\n",
       "  0.04489070177078247,\n",
       "  0.039851147681474686,\n",
       "  0.009840646758675575,\n",
       "  -0.025418918579816818,\n",
       "  0.022451229393482208,\n",
       "  0.07322824001312256,\n",
       "  -0.04904571920633316,\n",
       "  0.005836052354425192,\n",
       "  -0.02578243613243103,\n",
       "  -0.03402094170451164,\n",
       "  0.016537558287382126,\n",
       "  -0.02453368529677391,\n",
       "  -0.06631171703338623,\n",
       "  0.01210390031337738,\n",
       "  -0.037884000688791275,\n",
       "  0.0348719097673893,\n",
       "  -0.010593993589282036,\n",
       "  -0.004913569428026676,\n",
       "  0.01283876970410347,\n",
       "  -0.08743543922901154,\n",
       "  -0.03685980290174484,\n",
       "  0.011655287817120552,\n",
       "  0.11309872567653656,\n",
       "  -0.029876787215471268,\n",
       "  -0.001806224579922855,\n",
       "  0.0076090372167527676,\n",
       "  -0.01515267789363861,\n",
       "  -0.11305025964975357,\n",
       "  0.020343871787190437,\n",
       "  0.015502894297242165,\n",
       "  -0.03256918117403984,\n",
       "  -0.05996641889214516,\n",
       "  0.005273981485515833,\n",
       "  0.006020120810717344,\n",
       "  0.03673189878463745,\n",
       "  0.009165764786303043,\n",
       "  -0.002462972654029727,\n",
       "  -0.028989994898438454,\n",
       "  0.01196252554655075,\n",
       "  -0.13844235241413116,\n",
       "  -0.023819632828235626,\n",
       "  -0.009230807423591614,\n",
       "  -0.005837179720401764,\n",
       "  0.019623493775725365,\n",
       "  -0.0027188663370907307,\n",
       "  -0.045076966285705566,\n",
       "  0.01999058946967125,\n",
       "  -0.0589541494846344,\n",
       "  -0.02789081446826458,\n",
       "  -0.003909975755959749,\n",
       "  -0.05397895351052284,\n",
       "  -0.04682903364300728,\n",
       "  -0.0005801383522339165,\n",
       "  0.05569719523191452,\n",
       "  0.016020743176341057,\n",
       "  -0.07847896963357925,\n",
       "  -0.008317165076732635,\n",
       "  -0.020796867087483406,\n",
       "  0.017384598031640053,\n",
       "  0.05636277422308922,\n",
       "  -0.04832352697849274,\n",
       "  -0.017380785197019577,\n",
       "  0.0017864322289824486,\n",
       "  0.00847701821476221,\n",
       "  0.03201744705438614,\n",
       "  -0.05116578936576843,\n",
       "  0.00528883608058095,\n",
       "  -0.049378421157598495,\n",
       "  -0.052175551652908325,\n",
       "  0.013221117667853832,\n",
       "  -0.001286603044718504,\n",
       "  -0.08013775944709778,\n",
       "  0.026887990534305573,\n",
       "  -0.04921932891011238,\n",
       "  -0.02170635014772415,\n",
       "  -0.03023710288107395,\n",
       "  -0.0341891273856163,\n",
       "  -0.0005970519268885255,\n",
       "  0.000599280814640224,\n",
       "  0.021887917071580887,\n",
       "  -0.013087473809719086,\n",
       "  -0.011483530513942242,\n",
       "  -0.031378839164972305,\n",
       "  -0.005389371886849403,\n",
       "  0.013638800010085106,\n",
       "  0.021799011155962944,\n",
       "  0.004217000678181648,\n",
       "  0.07615024596452713,\n",
       "  0.036339934915304184,\n",
       "  -0.01619403064250946,\n",
       "  0.024472039192914963,\n",
       "  -0.058293040841817856,\n",
       "  -0.02108975127339363,\n",
       "  -0.014671103097498417,\n",
       "  -0.002102502854540944,\n",
       "  0.005789072252810001,\n",
       "  0.020889898762106895,\n",
       "  -0.027637669816613197,\n",
       "  0.0005050868494436145,\n",
       "  -0.018084630370140076,\n",
       "  -0.003447351511567831,\n",
       "  -0.12092020362615585,\n",
       "  -0.029359901323914528,\n",
       "  0.02227683924138546,\n",
       "  0.04438091814517975,\n",
       "  -0.09454792737960815,\n",
       "  0.01586851477622986,\n",
       "  -0.030410654842853546,\n",
       "  0.0003392300568521023,\n",
       "  -0.052116405218839645,\n",
       "  -0.06302930414676666,\n",
       "  0.0023247553035616875,\n",
       "  -0.05504923313856125,\n",
       "  -0.03247653320431709,\n",
       "  0.050905950367450714,\n",
       "  0.06482797861099243,\n",
       "  0.0008958824328146875,\n",
       "  -0.03402875363826752,\n",
       "  -0.07423536479473114,\n",
       "  -0.02232332155108452,\n",
       "  0.01615241914987564,\n",
       "  -0.05415895953774452,\n",
       "  -0.019244106486439705,\n",
       "  0.01018781028687954,\n",
       "  0.017934193834662437,\n",
       "  -0.004110520705580711,\n",
       "  0.039533086121082306,\n",
       "  0.07956697791814804,\n",
       "  0.01580163650214672,\n",
       "  0.04288617894053459,\n",
       "  -0.006629663519561291,\n",
       "  0.018935775384306908,\n",
       "  -0.027761977165937424,\n",
       "  -0.07362382113933563,\n",
       "  -0.03772930055856705,\n",
       "  -0.09432408213615417,\n",
       "  -0.04473770037293434,\n",
       "  -0.045222338289022446,\n",
       "  -0.017800837755203247,\n",
       "  0.09793777763843536,\n",
       "  0.02777603082358837,\n",
       "  -0.007763882167637348,\n",
       "  0.010021692141890526,\n",
       "  -0.04768044501543045,\n",
       "  -0.008229744620621204,\n",
       "  0.057299692183732986,\n",
       "  0.0440550334751606,\n",
       "  0.0369253046810627,\n",
       "  -0.02288326807320118,\n",
       "  0.028860317543148994,\n",
       "  0.003682700451463461,\n",
       "  0.006066000089049339,\n",
       "  0.009301559999585152,\n",
       "  -0.011893072165548801,\n",
       "  0.020250163972377777,\n",
       "  -0.038149066269397736,\n",
       "  -0.006161212921142578,\n",
       "  0.03635638579726219,\n",
       "  0.01613069884479046,\n",
       "  -0.1044922024011612,\n",
       "  -0.02137269638478756,\n",
       "  0.04088401794433594,\n",
       "  -0.06067138537764549,\n",
       "  -0.007794619537889957,\n",
       "  -0.0303181242197752,\n",
       "  -0.019865958020091057,\n",
       "  0.0007062848890200257,\n",
       "  -0.03600172698497772,\n",
       "  0.037974245846271515,\n",
       "  -0.00968946237117052,\n",
       "  -0.07349265366792679,\n",
       "  -0.0043506380170583725,\n",
       "  0.0010977743659168482,\n",
       "  0.04787486791610718,\n",
       "  0.014227318577468395,\n",
       "  0.07904918491840363,\n",
       "  -0.009986716322600842,\n",
       "  0.006576672196388245,\n",
       "  0.04135947301983833,\n",
       "  -0.005421541631221771,\n",
       "  0.0392582081258297,\n",
       "  0.03391363099217415,\n",
       "  0.019683120772242546,\n",
       "  0.04135008528828621,\n",
       "  0.002480356954038143,\n",
       "  0.02359296940267086,\n",
       "  -0.05858476087450981,\n",
       "  -0.03807536140084267,\n",
       "  -0.022500913590192795,\n",
       "  0.004021748900413513,\n",
       "  0.030909782275557518,\n",
       "  -0.02861729823052883,\n",
       "  0.056838396936655045,\n",
       "  -0.04389623552560806,\n",
       "  -0.00012129529932281002,\n",
       "  -0.008932097814977169,\n",
       "  -0.00288593303412199,\n",
       "  -0.015382373705506325,\n",
       "  -0.009953543543815613,\n",
       "  0.003942052833735943,\n",
       "  -0.030346283689141273,\n",
       "  0.004374919459223747,\n",
       "  -0.05177544057369232,\n",
       "  0.029746778309345245,\n",
       "  0.010657080449163914,\n",
       "  0.029867546632885933,\n",
       "  0.028277063742280006,\n",
       "  -0.02292475663125515,\n",
       "  0.025467900559306145,\n",
       "  0.023801516741514206,\n",
       "  0.010387474671006203,\n",
       "  -0.010911978781223297,\n",
       "  0.04854965582489967,\n",
       "  0.013491627760231495,\n",
       "  -0.06904138624668121,\n",
       "  -0.010377254337072372,\n",
       "  -0.03228653594851494,\n",
       "  0.037706803530454636,\n",
       "  0.02956564910709858,\n",
       "  -0.015690160915255547,\n",
       "  -0.022790826857089996,\n",
       "  -0.02760189399123192,\n",
       "  -0.038303766399621964,\n",
       "  -0.030375396832823753,\n",
       "  0.019688494503498077,\n",
       "  0.06389302015304565,\n",
       "  -0.06535323709249496,\n",
       "  -0.026666345074772835,\n",
       "  -0.077206090092659,\n",
       "  -0.04243107885122299,\n",
       "  0.03389513120055199,\n",
       "  -0.01803237572312355,\n",
       "  -0.042938992381095886,\n",
       "  -0.044862791895866394,\n",
       "  -0.012445838190615177,\n",
       "  0.003337273607030511,\n",
       "  0.004315574187785387,\n",
       "  -0.009410910308361053,\n",
       "  -0.05901128798723221,\n",
       "  0.003631134517490864,\n",
       "  -0.06784853339195251,\n",
       "  0.012471320107579231,\n",
       "  -0.037472136318683624,\n",
       "  0.08596865087747574,\n",
       "  0.0007093275780789554,\n",
       "  -0.001205522334203124,\n",
       "  -0.023570148274302483,\n",
       "  -0.021192962303757668,\n",
       "  0.032879430800676346,\n",
       "  0.006965084001421928,\n",
       "  -0.007607876788824797,\n",
       "  -0.004399607889354229,\n",
       "  0.017550552263855934,\n",
       "  -0.009700761176645756,\n",
       "  -0.04908757284283638,\n",
       "  -0.021804621443152428,\n",
       "  0.02506711147725582,\n",
       "  -0.05186567083001137,\n",
       "  -0.0231936015188694,\n",
       "  0.03840754181146622,\n",
       "  0.019663825631141663,\n",
       "  0.032724812626838684,\n",
       "  0.0177029799669981,\n",
       "  -0.0014046221040189266,\n",
       "  0.015726758167147636,\n",
       "  -0.08755071461200714,\n",
       "  0.017430078238248825,\n",
       "  -0.03222585469484329,\n",
       "  0.020201653242111206,\n",
       "  -0.025288349017500877,\n",
       "  0.0351431779563427,\n",
       "  0.02181210368871689,\n",
       "  0.03296102583408356,\n",
       "  -0.0204562209546566,\n",
       "  0.029690872877836227,\n",
       "  0.02127763070166111,\n",
       "  -0.03098403476178646,\n",
       "  -0.009797122329473495,\n",
       "  0.04355955496430397,\n",
       "  -0.022581633180379868,\n",
       "  -0.019661227241158485,\n",
       "  0.044895026832818985,\n",
       "  0.01134316623210907,\n",
       "  0.006717481184750795,\n",
       "  0.022993039339780807,\n",
       "  -0.0292134378105402,\n",
       "  -0.015099354088306427,\n",
       "  -0.03151310235261917,\n",
       "  -0.07694970071315765,\n",
       "  0.036277879029512405,\n",
       "  -0.003769670380279422,\n",
       "  -0.03943367674946785,\n",
       "  -0.002183720236644149,\n",
       "  -0.03951575607061386,\n",
       "  -0.0016553698806092143,\n",
       "  -0.0409880094230175,\n",
       "  -0.0490470789372921,\n",
       "  0.007203949615359306,\n",
       "  0.0013387392973527312,\n",
       "  0.02413034997880459,\n",
       "  -0.0076427217572927475,\n",
       "  -0.005262312479317188,\n",
       "  -0.0009408617625012994,\n",
       "  -0.03450697660446167,\n",
       "  0.013217564672231674,\n",
       "  -0.04844023287296295,\n",
       "  0.04706558212637901,\n",
       "  -0.04313153773546219,\n",
       "  0.062395066022872925,\n",
       "  0.030704539269208908,\n",
       "  -0.028587594628334045,\n",
       "  -0.06483864784240723,\n",
       "  0.08509650081396103,\n",
       "  0.04282253235578537,\n",
       "  0.010652677156031132,\n",
       "  -0.008618698455393314,\n",
       "  0.019553031772375107,\n",
       "  -0.026153210550546646,\n",
       "  0.024930138140916824,\n",
       "  -0.0451384074985981,\n",
       "  -0.022600799798965454,\n",
       "  0.05251716822385788,\n",
       "  0.026976266875863075,\n",
       "  -0.028831908479332924,\n",
       "  -0.017806116491556168,\n",
       "  -0.03861190006136894,\n",
       "  -0.015072875656187534,\n",
       "  -0.012328239157795906,\n",
       "  -0.01420638244599104,\n",
       "  0.00797341950237751,\n",
       "  0.028130337595939636,\n",
       "  0.010876885615289211,\n",
       "  -0.001950905891135335,\n",
       "  -0.0006284718401730061,\n",
       "  -0.018954161554574966,\n",
       "  0.009913393296301365,\n",
       "  -0.04268965870141983,\n",
       "  0.052347686141729355,\n",
       "  -0.018801216036081314,\n",
       "  0.032774701714515686,\n",
       "  -0.020792193710803986,\n",
       "  -0.03213116526603699,\n",
       "  0.01554836519062519,\n",
       "  -0.05627499148249626,\n",
       "  -0.022013423964381218,\n",
       "  0.014653129503130913,\n",
       "  -0.00951706524938345,\n",
       "  -0.01938716322183609,\n",
       "  0.014943873509764671,\n",
       "  0.07446214556694031,\n",
       "  0.02501770108938217,\n",
       "  0.006164314690977335,\n",
       "  0.029319699853658676,\n",
       "  0.01990470476448536,\n",
       "  -0.024720843881368637,\n",
       "  0.0539473220705986,\n",
       "  -0.08122004568576813,\n",
       "  0.004746674560010433,\n",
       "  0.02624775841832161,\n",
       "  -0.006519754882901907,\n",
       "  -0.055447690188884735,\n",
       "  0.01491202786564827,\n",
       "  0.043346576392650604,\n",
       "  -0.013690605759620667,\n",
       "  0.02823462523519993,\n",
       "  0.021934442222118378,\n",
       "  0.007948494516313076,\n",
       "  0.018832696601748466,\n",
       "  -0.03223138302564621,\n",
       "  0.010194865055382252,\n",
       "  0.003390232566744089,\n",
       "  0.01401376910507679,\n",
       "  0.030309652909636497,\n",
       "  0.021975047886371613,\n",
       "  -0.0066476380452513695,\n",
       "  0.002203474286943674,\n",
       "  -0.06801651418209076,\n",
       "  0.015127661637961864,\n",
       "  0.022934764623641968,\n",
       "  0.0033354631159454584,\n",
       "  -0.024235378950834274,\n",
       "  0.05853678658604622,\n",
       "  0.01721128262579441,\n",
       "  -0.01735829934477806,\n",
       "  -0.005077986512333155,\n",
       "  0.024297863245010376,\n",
       "  -0.042763590812683105,\n",
       "  0.0045416513457894325,\n",
       "  -0.004957937635481358,\n",
       "  0.017288319766521454,\n",
       "  -0.02120641991496086,\n",
       "  0.035523589700460434,\n",
       "  -0.041808802634477615,\n",
       "  0.0008428212604485452,\n",
       "  0.002473521279171109,\n",
       "  -0.015672817826271057,\n",
       "  0.059275392442941666,\n",
       "  0.032171085476875305,\n",
       "  -0.018841121345758438,\n",
       "  -0.02364673838019371,\n",
       "  0.016053466126322746,\n",
       "  -0.060570359230041504,\n",
       "  0.08358245342969894,\n",
       "  -0.02842753380537033,\n",
       "  -0.010184727609157562,\n",
       "  0.04572434350848198,\n",
       "  0.027665704488754272,\n",
       "  0.0053847432136535645,\n",
       "  -0.05116375535726547,\n",
       "  -0.016114892438054085,\n",
       "  -0.003136603394523263,\n",
       "  -0.011003600433468819,\n",
       "  0.008326280862092972,\n",
       "  -0.026801183819770813,\n",
       "  -0.06651704758405685,\n",
       "  0.0034785554744303226,\n",
       "  -0.00932818278670311,\n",
       "  0.01578628271818161,\n",
       "  -0.040784481912851334,\n",
       "  0.004441000521183014,\n",
       "  -0.016124436631798744,\n",
       "  -0.0219248216599226,\n",
       "  -0.0173686183989048,\n",
       "  -0.031921274960041046,\n",
       "  0.08291184902191162,\n",
       "  -0.054339710623025894,\n",
       "  0.028444115072488785,\n",
       "  -0.040055230259895325,\n",
       "  -0.009386622346937656,\n",
       "  -0.061038389801979065,\n",
       "  -0.03352708742022514,\n",
       "  -0.010606897063553333,\n",
       "  0.006169422995299101,\n",
       "  -0.06242374703288078,\n",
       "  -0.026835348457098007,\n",
       "  0.019359247758984566,\n",
       "  0.00720997853204608,\n",
       "  0.051870305091142654,\n",
       "  -0.08133357763290405,\n",
       "  -0.030294794589281082,\n",
       "  0.019370293244719505,\n",
       "  0.005834217648953199,\n",
       "  0.07672528177499771,\n",
       "  -0.015615151263773441,\n",
       "  0.055105507373809814,\n",
       "  0.013199948705732822,\n",
       "  -0.03197288513183594,\n",
       "  -0.035977043211460114,\n",
       "  0.014917027205228806,\n",
       "  0.07331372797489166,\n",
       "  0.04941679909825325,\n",
       "  -0.03454576060175896,\n",
       "  0.04617003723978996,\n",
       "  -0.08009295165538788,\n",
       "  -0.02136279083788395,\n",
       "  -0.02494593895971775,\n",
       "  0.05191807821393013,\n",
       "  -0.024977976456284523,\n",
       "  -0.039649736136198044,\n",
       "  0.018155187368392944,\n",
       "  0.03717414289712906,\n",
       "  0.04817939177155495,\n",
       "  0.009007086046040058,\n",
       "  -0.05937434732913971,\n",
       "  -0.018100744113326073,\n",
       "  -0.033190902322530746,\n",
       "  0.03930656984448433,\n",
       "  -0.013057391159236431,\n",
       "  0.01748744398355484,\n",
       "  0.003135660197585821,\n",
       "  -0.006105158478021622,\n",
       "  -7.021136116236448e-05,\n",
       "  0.043743036687374115,\n",
       "  0.02146652154624462,\n",
       "  -0.030843086540699005,\n",
       "  -0.02591208927333355,\n",
       "  0.03641447424888611,\n",
       "  -0.01617470383644104,\n",
       "  0.014437678270041943,\n",
       "  -0.003835588926449418,\n",
       "  0.005755048710852861,\n",
       "  -0.006793512497097254,\n",
       "  -0.004831612575799227,\n",
       "  -0.024777665734291077,\n",
       "  0.017529219388961792,\n",
       "  -0.025720808655023575,\n",
       "  0.01076890341937542,\n",
       "  -0.04550537094473839,\n",
       "  0.08206205815076828,\n",
       "  0.015250287018716335,\n",
       "  0.031112568452954292,\n",
       "  0.003917420282959938,\n",
       "  0.023247607052326202,\n",
       "  0.004271398298442364,\n",
       "  -0.0017529117176309228,\n",
       "  -0.021573662757873535,\n",
       "  -0.03010953590273857,\n",
       "  -0.0470706932246685,\n",
       "  -0.02526857890188694,\n",
       "  -0.04713105410337448,\n",
       "  0.045119889080524445,\n",
       "  -0.039953719824552536,\n",
       "  -0.051854558289051056,\n",
       "  -0.025276141241192818,\n",
       "  -0.024331174790859222,\n",
       "  -0.005229010246694088,\n",
       "  0.02685876190662384,\n",
       "  0.018370866775512695,\n",
       "  -0.03555551543831825,\n",
       "  0.003994341939687729,\n",
       "  -0.05339186638593674,\n",
       "  0.005380852147936821,\n",
       "  -0.015108727850019932,\n",
       "  0.016042659059166908,\n",
       "  0.053534697741270065,\n",
       "  -0.019099386408925056,\n",
       "  -0.017877371981739998,\n",
       "  -0.014813797548413277,\n",
       "  0.03237292915582657,\n",
       "  0.006433336529880762,\n",
       "  0.002705630147829652,\n",
       "  -0.007242702413350344,\n",
       "  0.031741198152303696,\n",
       "  0.01809987984597683,\n",
       "  -0.010801575146615505,\n",
       "  0.019676780328154564,\n",
       "  -0.0067742690443992615,\n",
       "  -0.005239295307546854,\n",
       "  -0.022196607664227486,\n",
       "  0.0024032839573919773,\n",
       "  -0.010038444772362709,\n",
       "  -0.02828790619969368,\n",
       "  0.0034597781486809254,\n",
       "  0.009014839306473732,\n",
       "  -0.012296515516936779,\n",
       "  0.010854891501367092,\n",
       "  0.01873869076371193,\n",
       "  -0.010831854306161404,\n",
       "  0.007777742110192776,\n",
       "  -0.045209046453237534,\n",
       "  0.045564938336610794,\n",
       "  -0.037897538393735886,\n",
       "  -0.01810997724533081,\n",
       "  0.06785821914672852,\n",
       "  0.04509628191590309,\n",
       "  0.027533505111932755,\n",
       "  0.04834897816181183,\n",
       "  0.009594536386430264,\n",
       "  -0.005067767575383186,\n",
       "  -0.020829234272241592,\n",
       "  -0.04904535412788391,\n",
       "  -0.0005499657709151506,\n",
       "  0.049261417239904404,\n",
       "  -0.03156710043549538,\n",
       "  0.043548621237277985,\n",
       "  -0.01485756691545248,\n",
       "  0.0010555158369243145,\n",
       "  0.01261863298714161,\n",
       "  0.023076284676790237,\n",
       "  -0.04016299918293953,\n",
       "  0.005115080624818802,\n",
       "  -0.031035207211971283,\n",
       "  -0.054987583309412,\n",
       "  -0.007948895916342735,\n",
       "  -0.0689130425453186,\n",
       "  -0.03793516010046005,\n",
       "  0.004629662726074457,\n",
       "  -0.018388455733656883,\n",
       "  -0.010943028144538403,\n",
       "  -0.0059555997140705585,\n",
       "  -0.005955242086201906,\n",
       "  0.03342070430517197,\n",
       "  -0.0391748808324337,\n",
       "  -0.0069701652973890305,\n",
       "  0.010620668530464172,\n",
       "  -0.0058627985417842865,\n",
       "  0.04439268261194229,\n",
       "  0.029187653213739395,\n",
       "  0.019111383706331253,\n",
       "  -0.01712738163769245,\n",
       "  -0.014731770381331444,\n",
       "  -0.027152977883815765,\n",
       "  0.003706591436639428,\n",
       "  0.024424772709608078,\n",
       "  0.018233653157949448,\n",
       "  -0.012864198535680771,\n",
       "  -0.034944798797369,\n",
       "  0.00042327746632508934,\n",
       "  0.05578143149614334,\n",
       "  -0.12485958635807037,\n",
       "  -0.07658467441797256,\n",
       "  -0.013254924677312374,\n",
       "  0.010274720378220081,\n",
       "  -0.012507173232734203,\n",
       "  -0.015673428773880005,\n",
       "  -0.014897412620484829,\n",
       "  -0.07005061209201813,\n",
       "  0.017317742109298706,\n",
       "  -0.04367248713970184,\n",
       "  -0.015573548153042793,\n",
       "  -0.008476748131215572,\n",
       "  0.0413154773414135,\n",
       "  -0.04106811806559563,\n",
       "  0.020785342901945114,\n",
       "  0.002294790232554078,\n",
       "  -0.009481498040258884,\n",
       "  -0.10005310922861099,\n",
       "  -0.0015674380119889975,\n",
       "  -0.03895414620637894,\n",
       "  0.06641843169927597,\n",
       "  0.05220482125878334,\n",
       "  -0.05690709874033928,\n",
       "  0.03368357568979263,\n",
       "  -0.05986198037862778,\n",
       "  -0.05710377171635628,\n",
       "  0.003821077523753047,\n",
       "  -0.03676031529903412,\n",
       "  0.004011661745607853,\n",
       "  -0.010922365821897984,\n",
       "  -0.023702280595898628,\n",
       "  -0.0019858628511428833,\n",
       "  0.009536719880998135,\n",
       "  0.04284864664077759,\n",
       "  0.008188491687178612,\n",
       "  0.02532733790576458,\n",
       "  -0.05238054692745209,\n",
       "  -0.028613662347197533,\n",
       "  0.05317450314760208,\n",
       "  0.027564741671085358,\n",
       "  -0.04855165258049965,\n",
       "  0.010889515280723572,\n",
       "  0.02606443129479885,\n",
       "  -0.003505685133859515,\n",
       "  -0.05706363171339035,\n",
       "  -0.03895159810781479,\n",
       "  -0.05499180033802986,\n",
       "  -0.06364086270332336,\n",
       "  -0.023250887170433998,\n",
       "  -0.040815528482198715,\n",
       "  -0.004715075250715017,\n",
       "  -0.015787074342370033,\n",
       "  0.01467258669435978,\n",
       "  -0.011834128759801388,\n",
       "  0.010127106681466103,\n",
       "  0.01252324040979147,\n",
       "  0.006613778416067362,\n",
       "  -0.011732966639101505,\n",
       "  -0.06449659168720245,\n",
       "  -0.03352317586541176,\n",
       "  -0.02019878476858139,\n",
       "  0.04284040629863739,\n",
       "  0.04205732047557831,\n",
       "  -0.021332573145627975,\n",
       "  -0.03271002694964409,\n",
       "  -0.03505804017186165,\n",
       "  -0.015850253403186798,\n",
       "  -0.041399601846933365,\n",
       "  -0.13765163719654083,\n",
       "  -0.03187460079789162,\n",
       "  0.004068678244948387,\n",
       "  -0.042753804475069046,\n",
       "  0.006755362264811993,\n",
       "  -0.05014950409531593,\n",
       "  -0.011230062693357468,\n",
       "  -0.004030634183436632,\n",
       "  0.006395532749593258,\n",
       "  -0.03292568400502205,\n",
       "  0.024230390787124634,\n",
       "  0.07161040604114532,\n",
       "  -0.04225751757621765,\n",
       "  -0.01979459822177887,\n",
       "  -0.03642862290143967,\n",
       "  0.048790477216243744,\n",
       "  -0.021280547603964806,\n",
       "  -0.016685862094163895,\n",
       "  -0.006312563084065914,\n",
       "  0.059380318969488144,\n",
       "  -0.02197112888097763,\n",
       "  -0.012603405863046646,\n",
       "  0.013427812606096268,\n",
       "  0.04707802087068558,\n",
       "  -0.010195727460086346,\n",
       "  -0.00010207788727711886,\n",
       "  -0.0015454348176717758,\n",
       "  0.011935602873563766,\n",
       "  0.020616918802261353,\n",
       "  -0.019734490662813187,\n",
       "  0.005918060429394245,\n",
       "  -0.020359519869089127],\n",
       " 'sparse_embedding': {'values': [0.359853737603667, 0.933008728540452],\n",
       "  'dimensions': [78, 191]}}"
      ]
     },
     "execution_count": 37,
     "metadata": {},
     "output_type": "execute_result"
    }
   ],
   "source": [
    "items = []\n",
    "for i in range(len(df)):\n",
    "    id = i\n",
    "    title = df.title[i]\n",
    "    dense_embedding = get_dense_embedding(title)\n",
    "    sparse_embedding = get_sparse_embedding(title)\n",
    "    items.append(\n",
    "        {\n",
    "            \"id\": id,\n",
    "            \"title\": title,\n",
    "            \"embedding\": dense_embedding,\n",
    "            \"sparse_embedding\": sparse_embedding,\n",
    "        }\n",
    "    )\n",
    "items[0]"
   ]
  },
  {
   "cell_type": "markdown",
   "metadata": {
    "id": "dOXeX3VIELqw"
   },
   "source": [
    "The `get_dense_embedding()` function uses Vertex AI Embedding API for generating text embedding with 768 dimensions. This generates both dense and sparse embeddings in the following format:\n",
    "\n",
    "```\n",
    "{\n",
    "  'id': 0,\n",
    "  'title': 'Google Sticker',\n",
    "  'embedding':\n",
    "    [0.022880317643284798,\n",
    "    -0.03315234184265137,\n",
    "    ...\n",
    "    -0.03309667482972145,\n",
    "    0.04621824622154236],\n",
    "  'sparse_embedding': {\n",
    "    'values': [0.933008728540452, 0.359853737603667],\n",
    "    'dimensions': [191, 78]\n",
    "  }\n",
    "}\n",
    "```"
   ]
  },
  {
   "cell_type": "markdown",
   "metadata": {
    "id": "2MbJOIbVEUZY"
   },
   "source": [
    "The rest of the process is the same as the previous example. Upload the JSONL file to the Cloud Storage bucket, create a Vector Search index with the file, and deploy the index to the index endpoint."
   ]
  },
  {
   "cell_type": "code",
   "execution_count": 38,
   "metadata": {
    "id": "AehqVQdeFDeU",
    "tags": []
   },
   "outputs": [
    {
     "name": "stdout",
     "output_type": "stream",
     "text": [
      "Copying file://items.json [Content-Type=application/json]...\n",
      "/ [1 files][  3.3 MiB/  3.3 MiB]                                                \n",
      "Operation completed over 1 objects/3.3 MiB.                                      \n"
     ]
    }
   ],
   "source": [
    "# output as a JSONL file and save to the GCS bucket\n",
    "with open(\"items.json\", \"w\") as f:\n",
    "    for item in items:\n",
    "        f.write(f\"{item}\\n\")\n",
    "! gsutil cp items.json $BUCKET_URI"
   ]
  },
  {
   "cell_type": "code",
   "execution_count": 39,
   "metadata": {
    "id": "5-3bb628CyzG",
    "tags": []
   },
   "outputs": [],
   "source": [
    "# create Index (this should finish less than one minute)\n",
    "my_hybrid_index = aiplatform.MatchingEngineIndex.create_tree_ah_index(\n",
    "    display_name=f\"vs-hybridsearch-index-{UID}\",\n",
    "    contents_delta_uri=BUCKET_URI,\n",
    "    dimensions=768,\n",
    "    approximate_neighbors_count=10,\n",
    ")"
   ]
  },
  {
   "cell_type": "markdown",
   "metadata": {},
   "source": [
    "Go to **Vertex AI -> Vector Search -> Indexes (Tab)** and observe index creation.  This takes about 4 to 5 minutes."
   ]
  },
  {
   "cell_type": "code",
   "execution_count": null,
   "metadata": {
    "id": "T0VRwyrHHtRn",
    "tags": []
   },
   "outputs": [
    {
     "data": {
      "text/plain": [
       "<google.cloud.aiplatform.matching_engine.matching_engine_index_endpoint.MatchingEngineIndexEndpoint object at 0x7fee6f8b3bb0> \n",
       "resource name: projects/1095854936193/locations/us-east4/indexEndpoints/7859067222784737280"
      ]
     },
     "execution_count": 40,
     "metadata": {},
     "output_type": "execute_result"
    }
   ],
   "source": [
    "# deploy index\n",
    "DEPLOYED_HYBRID_INDEX_ID = f\"vs_hybridsearch_deployed_{UID}\"\n",
    "my_index_endpoint.deploy_index(\n",
    "    index=my_hybrid_index, deployed_index_id=DEPLOYED_HYBRID_INDEX_ID\n",
    ")"
   ]
  },
  {
   "cell_type": "markdown",
   "metadata": {},
   "source": [
    "Go to **Vertex AI -> Vector Search -> Index Endpoints**.  Notice the Endpoint you created earlier is listed, and the deployed indexes field is working.  Click on the link for the endpoint. You see the status of the Deployed index is Deploying.  Wait, the deployment will take 30 minutes."
   ]
  },
  {
   "cell_type": "markdown",
   "metadata": {},
   "source": [
    "### While you are waiting... ###\n",
    "Take time to review this [demo](https://cloud.google.com/vertex-ai/docs/vector-search/try-it) and the Additional Concepts at the end of this notebook. The demo provides a realistic example that will help you learn how Vector Search works, explore semantic and hybrid search, and see reranking in action. Submit a brief description of an animal, plant, ecommerce merchandise, or other item, and let Vector Search do the rest!"
   ]
  },
  {
   "cell_type": "markdown",
   "metadata": {
    "id": "8iC0IS_2AvLV"
   },
   "source": [
    "## Task 7. Run a hybrid query\n",
    "\n",
    "After deploying the hybrid index, you can run a hybrid query:"
   ]
  },
  {
   "cell_type": "code",
   "execution_count": 41,
   "metadata": {
    "id": "fj7UFoxTIFZR",
    "tags": []
   },
   "outputs": [],
   "source": [
    "from google.cloud.aiplatform.matching_engine.matching_engine_index_endpoint import (\n",
    "    HybridQuery,\n",
    ")\n",
    "\n",
    "# create HybridQuery\n",
    "query_text = \"Kids\"\n",
    "query_dense_emb = get_dense_embedding(query_text)\n",
    "query_sparse_emb = get_sparse_embedding(query_text)\n",
    "query = HybridQuery(\n",
    "    dense_embedding=query_dense_emb,\n",
    "    sparse_embedding_dimensions=query_sparse_emb[\"dimensions\"],\n",
    "    sparse_embedding_values=query_sparse_emb[\"values\"],\n",
    "    rrf_ranking_alpha=0.5,\n",
    ")"
   ]
  },
  {
   "cell_type": "markdown",
   "metadata": {
    "id": "mfPKXIa7Ek47"
   },
   "source": [
    "For the query text `Kids`, generate both dense and sparse embeddings for the word, and encapsulate them to the `HybridQuery` object. The difference from the previous `HybridQuery` is two additional parameters: `dense_embedding` and `rrf_ranking_alpha`.\n",
    "\n",
    "This time, we'll print distances for each item:"
   ]
  },
  {
   "cell_type": "code",
   "execution_count": 42,
   "metadata": {
    "id": "h9bLgIdJEu51",
    "tags": []
   },
   "outputs": [
    {
     "name": "stdout",
     "output_type": "stream",
     "text": [
      "Google Blue Kids Sunglasses             : dense_dist: 0.577, sparse_dist: 0.606\n",
      "Google Red Kids Sunglasses              : dense_dist: 0.573, sparse_dist: 0.572\n",
      "YouTube Kids Coloring Pencils           : dense_dist: 0.546, sparse_dist: 0.478\n",
      "YouTube Kids Character Sticker Sheet    : dense_dist: 0.525, sparse_dist: 0.468\n",
      "Google Doogler Youth Tee                : dense_dist: 0.546, sparse_dist: 0.000\n",
      "Chrome Dino Glow-in-the-Dark Youth Tee  : dense_dist: 0.536, sparse_dist: 0.000\n",
      "Google Bike Youth Tee                   : dense_dist: 0.535, sparse_dist: 0.000\n",
      "Google Indigo Youth Tee                 : dense_dist: 0.524, sparse_dist: 0.000\n",
      "Google White Classic Youth Tee          : dense_dist: 0.509, sparse_dist: 0.000\n",
      "Google Doogler Toddler Tee              : dense_dist: 0.506, sparse_dist: 0.000\n"
     ]
    }
   ],
   "source": [
    "# run a hybrid query\n",
    "response = my_index_endpoint.find_neighbors(\n",
    "    deployed_index_id=DEPLOYED_HYBRID_INDEX_ID,\n",
    "    queries=[query],\n",
    "    num_neighbors=10,\n",
    ")\n",
    "\n",
    "# print results\n",
    "for idx, neighbor in enumerate(response[0]):\n",
    "    title = df.title[int(neighbor.id)]\n",
    "    dense_dist = neighbor.distance if neighbor.distance else 0.0\n",
    "    sparse_dist = neighbor.sparse_distance if neighbor.sparse_distance else 0.0\n",
    "    print(f\"{title:<40}: dense_dist: {dense_dist:.3f}, sparse_dist: {sparse_dist:.3f}\")"
   ]
  },
  {
   "cell_type": "markdown",
   "metadata": {
    "id": "dVomjOksE7e2"
   },
   "source": [
    "In each `neighbor` object, there's a `distance` property that has the distance between the query and the item with the dense embedding, and a `sparse_distance` property that has the distance with the sparse embedding. These values are inverted distances, so a higher value means a shorter distance.\n",
    "\n",
    "By running a query with `HybridQuery`, you get the following result:\n",
    "\n",
    "```\n",
    "Google Blue Kids Sunglasses             : dense_dist: 0.677, sparse_dist: 0.606\n",
    "Google Red Kids Sunglasses              : dense_dist: 0.665, sparse_dist: 0.572\n",
    "YouTube Kids Coloring Pencils           : dense_dist: 0.655, sparse_dist: 0.478\n",
    "YouTube Kids Character Sticker Sheet    : dense_dist: 0.644, sparse_dist: 0.468\n",
    "Google White Classic Youth Tee          : dense_dist: 0.645, sparse_dist: 0.000\n",
    "Google Doogler Youth Tee                : dense_dist: 0.639, sparse_dist: 0.000\n",
    "Google Indigo Youth Tee                 : dense_dist: 0.637, sparse_dist: 0.000\n",
    "Google Black Classic Youth Tee          : dense_dist: 0.632, sparse_dist: 0.000\n",
    "Chrome Dino Glow-in-the-Dark Youth Tee  : dense_dist: 0.632, sparse_dist: 0.000\n",
    "Google Bike Youth Tee                   : dense_dist: 0.629, sparse_dist: 0.000\n",
    "```\n",
    "\n",
    "In addition to the token-based search results that have the `Kids` keyword, there are also semantic search results included. For example, `Google White Classic Youth Tee` is included because the embedding model knows that `Youth` and `Kids` are semantically similar.\n",
    "\n",
    "To merge the token-based and semantic search results, hybrid search uses [Reciprocal Rank Fusion (RRF)](https://plg.uwaterloo.ca/%7Egvcormac/cormacksigir09-rrf.pdf). For more information about RRF and how to specify the rrf_ranking_alpha parameter, see the later section \"What is Reciprocal Rank Fusion?\".\n",
    "\n",
    "### Reranking\n",
    "RRF provides a way to merge the ranking from semantic and token-based search results. In many production information retrieval or recommender systems, the results will be going through further precision ranking algorithms - so called reranking. With the combination of the millisecond level fast retrieval with vector search, and precision reranking on the results, you can build [multi-stage systems](https://cloud.google.com/blog/products/ai-machine-learning/scaling-deep-retrieval-tensorflow-two-towers-architecture?e=48754805) that provide higher search quality or recommendation performance.\n",
    "\n",
    "![multi-stage systems](https://cloud.google.com/vertex-ai/docs/vector-search/images/reranking.png)\n",
    "\n",
    "# Conclusion\n",
    "\n",
    "In this tutorial, we have learned the concept of hybrid search, how to build vector search index for token-based search with sparse embeddings, and how to combine it with the semantic search with dense embeddings. As we see on the example, hybrid search provides a way to mix the best part of the two approaches, resulting in higher search quality in production systems.\n"
   ]
  },
  {
   "cell_type": "markdown",
   "metadata": {
    "id": "HRkOkkB7ruQh"
   },
   "source": [
    "# Task 8. Cleaning up (Optional)\n",
    "\n",
    "In case you are using your own Cloud project, not a temporary project on Qwiklab, please make sure to delete all the Indexes, Index Endpoints and Cloud Storage buckets after finishing this tutorial. Otherwise the remaining objects would incur unexpected costs.\n"
   ]
  },
  {
   "cell_type": "code",
   "execution_count": null,
   "metadata": {
    "id": "RUy6sqgCryoU",
    "tags": []
   },
   "outputs": [],
   "source": [
    "# wait for a confirmation\n",
    "input(\"Press Enter to delete Index Endpoint, Index and Cloud Storage bucket:\")\n",
    "\n",
    "# delete Index Endpoint\n",
    "my_index_endpoint.undeploy_all()\n",
    "my_index_endpoint.delete(force=True)\n",
    "\n",
    "# delete Indexes\n",
    "my_hybrid_index.delete()\n",
    "\n",
    "# delete Cloud Storage bucket\n",
    "! gsutil rm -r \"{BUCKET_URI}\""
   ]
  },
  {
   "cell_type": "markdown",
   "metadata": {
    "id": "v94RXQ1HrpjI"
   },
   "source": [
    "# Start using hybrid search\n",
    "The following resources can help you get started with using hybrid search in Vector Search.\n",
    "\n",
    "## Hybrid search resources\n",
    "- [Input data format and structure](https://cloud.google.com/vertex-ai/docs/vector-search/setup/format-structure): Input data format for building sparse embedding index\n",
    "- [Query public index to get nearest neighbors](https://cloud.google.com/vertex-ai/docs/vector-search/query-index-public-endpoint): How to run queries with hybrid search\n",
    "- [Reciprocal Rank Fusion outperforms Condorcet and individual Rank Learning Methods](https://plg.uwaterloo.ca/%7Egvcormac/cormacksigir09-rrf.pdf): Discussion of the RRF algorithm\n",
    "\n",
    "## Vector Search resources\n",
    "- [Overview of Vertex AI Vector Search](https://cloud.google.com/vertex-ai/docs/vector-search/overview)\n",
    "- [Vector Search quickstart](https://cloud.google.com/vertex-ai/docs/vector-search/quickstart)\n"
   ]
  },
  {
   "cell_type": "markdown",
   "metadata": {
    "id": "d-XUnnQhrkaC"
   },
   "source": [
    "# Additional concepts\n",
    "The following sections describe TF-IDF and TfidVectorizer, Reciprical Rank Fusion, and the alpha parameter in further detail.\n",
    "\n",
    "## How do TF-IDF and `TfidfVectorizer` work?\n",
    "The `fit_transform()` function executes two important processes of the TF-IDF algorithm:\n",
    "\n",
    "- **Fit**: The vectorizer calculates the Inverse Document Frequency (IDF) for each term in the vocabulary. IDF reflects how important a term is across the entire corpus. Rare terms get higher IDF scores:\n",
    "\n",
    "```\n",
    "IDF(t) = log_e(Total number of documents / Number of documents containing term t)\n",
    "```\n",
    "\n",
    "- **Transform**:\n",
    " - **Tokenization**: Breaks the documents down into individual terms (words or phrases)\n",
    " - **Term Frequency (TF) Calculation**: Counts how often each term appears in each document with:\n",
    "\n",
    "```\n",
    "TF(t, d)** = (Number of times term t appears in document d) / (Total number of terms in document d)\n",
    "```\n",
    "\n",
    " - **TF-IDF Calculation**: Combines the TF for each term with the pre-calculated IDF to create a TF-IDF score. This score represents the importance of a term in a particular document relative to the entire corpus.\n",
    "\n",
    "```\n",
    "TF-IDF(t, d) = TF(t, d) * IDF(t)\n",
    "```\n",
    "\n",
    "The TF-IDF vectorizer tries to put higher weight to signature words in the dataset, such as \"Shirts\" or \"Dino\", compared to trivial words, such as \"The\", \"a\" or \"of\", and counts how many times those signature words are used in the specified document. Each value of a sparse embedding represents a frequency of each word based on the counts.\n",
    "\n",
    "## What is Reciprocal Rank Fusion?\n",
    "For merging the token-based and semantic search results, hybrid search uses [Reciprocal Rank Fusion (RRF)](https://plg.uwaterloo.ca/%7Egvcormac/cormacksigir09-rrf.pdf). RRF is an algorithm for combining multiple ranked lists of items into a single, unified ranking. It's a popular technique for merging search results from different sources or retrieval methods, especially in hybrid search systems and large language models.\n",
    "\n",
    "In case of the hybrid search of Vector Search, the dense distance and sparse distance are measured in different spaces and can't be directly compared to each other. Thus, RRF works effectively for merging and ranking the results from the two different spaces.\n",
    "\n",
    "Here's how RRF Works:\n",
    "\n",
    "- **Reciprocal rank**: For each item in a ranked list, calculate its reciprocal rank. This means taking the inverse of the item's position (rank) in the list. For example, the item ranked number one gets a reciprocal rank of 1/1 = 1, and the item ranked number two gets 1/2 = 0.5.\n",
    "- **Sum reciprocal ranks**: Sum the reciprocal ranks for each item across all the ranked lists. This gives a final score for each item.\n",
    "- **Sort by final score**: Sort the items by their final score in descending order. The items with the highest scores are considered the most relevant or important.\n",
    "\n",
    "In short, the items with higher ranks in both dense and sparse results will be pulled up to the top of the list. Thus, the item \"Google Blue Kids Sunglasses\" is at the top as it has higher ranks in both dense and sparse search results. Items like \"Google White Classic Youth Tee\" are low ranked as they only have ranks in the dense search result.\n",
    "\n",
    "## How the alpha parameter behaves\n",
    "The example of how to use hybrid search sets the parameter `rrf_ranking_alpha` as `0.5` when creating the `HybridQuery` object. You can specify a weight on ranking the dense and sparse search results using the following values for `rrf_ranking_alpha`:\n",
    "\n",
    "- `1`, or not specified: Hybrid search uses only dense search results and ignores sparse search results\n",
    "- `0`: Hybrid search uses only sparse search results and ignores dense search results\n",
    "- `0` to `1`: Hybrid search merges both results from dense and sparse with the weight specified by the value. `0.5` means they will be merged with the same weight\n"
   ]
  }
 ],
 "metadata": {
  "colab": {
   "name": "hybrid-search.ipynb",
   "toc_visible": true
  },
  "environment": {
   "kernel": "conda-base-py",
   "name": "workbench-notebooks.m134",
   "type": "gcloud",
   "uri": "us-docker.pkg.dev/deeplearning-platform-release/gcr.io/workbench-notebooks:m134"
  },
  "kernelspec": {
   "display_name": "Python 3 (ipykernel) (Local)",
   "language": "python",
   "name": "conda-base-py"
  },
  "language_info": {
   "codemirror_mode": {
    "name": "ipython",
    "version": 3
   },
   "file_extension": ".py",
   "mimetype": "text/x-python",
   "name": "python",
   "nbconvert_exporter": "python",
   "pygments_lexer": "ipython3",
   "version": "3.10.18"
  }
 },
 "nbformat": 4,
 "nbformat_minor": 4
}
