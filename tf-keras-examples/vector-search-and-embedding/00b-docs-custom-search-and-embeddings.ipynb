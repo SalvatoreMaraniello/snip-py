{
 "cells": [
  {
   "cell_type": "markdown",
   "id": "65c8bb23",
   "metadata": {},
   "source": [
    "# Custom Search with Embeddings in Vertex AI\n",
    "\n",
    "https://partner.skills.google/paths/164/course_templates/948"
   ]
  },
  {
   "cell_type": "markdown",
   "id": "1efe19d8",
   "metadata": {},
   "source": []
  },
  {
   "cell_type": "markdown",
   "id": "e6abe898",
   "metadata": {},
   "source": []
  },
  {
   "cell_type": "markdown",
   "id": "d744381d",
   "metadata": {},
   "source": []
  }
 ],
 "metadata": {
  "language_info": {
   "name": "python"
  }
 },
 "nbformat": 4,
 "nbformat_minor": 5
}
